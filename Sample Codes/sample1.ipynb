{
 "cells": [
  {
   "cell_type": "markdown",
   "metadata": {},
   "source": [
    "# 第一周周计划\n",
    "韩昊阳"
   ]
  },
  {
   "cell_type": "markdown",
   "metadata": {},
   "source": [
    "第一周的工作任务是：\n",
    "\n",
    "    1. 配置电脑系统环境；\n",
    "    2. 熟悉各个数据库中数据大小，类型，实际意义，调用方法；\n",
    "    3. Linux远端环境配置；\n",
    "    4. 对于一个已知结论(监督学习)的选股策略，搭建一个小的自变量、因变量已知的监督学习模型（多个模型进行筛选），并进行accuracy(cross validation/train_test split)/overfitting(bias/variance)等模型检验；\n",
    "    5. 根据步骤4所得到的结果，给出模型选择结论；\n",
    "    6. 后续工作。\n"
   ]
  },
  {
   "cell_type": "markdown",
   "metadata": {},
   "source": [
    "## a. 电脑系统配置\n",
    "\n",
    "安装如下环境和语言：\n",
    "\n",
    "1. Anaconda Navigator(python 3.6);      https://www.anaconda.com\n",
    "2. Numpy, pandas, sklearn, matplotlib, seaborn;    pip/conda install xxx\n",
    "3. Tensorflow, Pytorch, word2vec, autograd, cupy;    pip/conda install xxx\n",
    "4. chrome;    https://chrome.google.com\n",
    "5. wolf(bash simulator for windows);\n",
    "6. oracle/wind;\n",
    "7. VPN.\n",
    "8. Cuda.\n"
   ]
  },
  {
   "cell_type": "markdown",
   "metadata": {},
   "source": [
    "注意：经过实测，需要下载anaconda-navigator的4.2.0版本（for python 3.5）（因为最新版本无法安装到本版本的电脑中），然后使用：\n",
    "\n",
    "1. conda update anaconda-navigator\n",
    "2. anaconda-navigator --reset\n",
    "3. conda update -f anaconda-client\n",
    "4. conda update jupyter_core jupyter client\n",
    "\n",
    "\n",
    "的命令升级并支持anaconda和jupyter的使用"
   ]
  },
  {
   "cell_type": "code",
   "execution_count": null,
   "metadata": {},
   "outputs": [],
   "source": [
    "!pip install numpy pandas sklearn matplotlib seaborn"
   ]
  },
  {
   "cell_type": "code",
   "execution_count": null,
   "metadata": {},
   "outputs": [],
   "source": [
    "!python -m pip install --upgrade pip"
   ]
  },
  {
   "cell_type": "code",
   "execution_count": null,
   "metadata": {},
   "outputs": [],
   "source": [
    "!pip3 install --upgrade tensorflow\n",
    "!pip3 install --upgrade tensorflow-gpu"
   ]
  },
  {
   "cell_type": "code",
   "execution_count": null,
   "metadata": {},
   "outputs": [],
   "source": [
    "!pip3 install --upgrade tensorflow"
   ]
  },
  {
   "cell_type": "markdown",
   "metadata": {},
   "source": [
    "here we installed cuda version 9.2.\n",
    "\n",
    "\n",
    "I followed this instruction: \n",
    "https://developer.nvidia.com/cuda-downloads?target_os=Windows&target_arch=x86_64&target_version=10&target_type=exenetwork"
   ]
  },
  {
   "cell_type": "markdown",
   "metadata": {},
   "source": [
    "## b. 数据库熟悉\n",
    "\n",
    "1. 熟悉数据平台操作，导入方法；\n",
    "2. 了解主流数据因子中各个变量的实际意义，各因子大小(300MB)，本周实验中的各个变量具体意义和使用方法。"
   ]
  },
  {
   "cell_type": "markdown",
   "metadata": {},
   "source": [
    "## c. Linux环境配置\n",
    "和a.步骤相似，在linux环境下进行类似的步骤设计。"
   ]
  },
  {
   "cell_type": "markdown",
   "metadata": {},
   "source": [
    "## d. 模型选择"
   ]
  },
  {
   "cell_type": "markdown",
   "metadata": {},
   "source": [
    "#### 1.数据导入"
   ]
  },
  {
   "cell_type": "code",
   "execution_count": 1,
   "metadata": {},
   "outputs": [],
   "source": [
    "# 1. Import Dataset\n",
    "import numpy as np\n",
    "import pandas as pd\n",
    "import matplotlib.pyplot as plt\n",
    "import seaborn as sns\n",
    "sns.set()\n",
    "\n",
    "import time\n",
    "import os\n",
    "\n",
    "\n",
    "# Define Hyperparameters\n",
    "T = 30"
   ]
  },
  {
   "cell_type": "markdown",
   "metadata": {},
   "source": [
    "首先看一下单因子的数据形状："
   ]
  },
  {
   "cell_type": "code",
   "execution_count": null,
   "metadata": {},
   "outputs": [],
   "source": [
    "# 40000个时间点（每个时间点是1分钟）\n",
    "# 1829支股票（只有1082支是有数据的）"
   ]
  },
  {
   "cell_type": "code",
   "execution_count": 2,
   "metadata": {},
   "outputs": [],
   "source": [
    "x = np.memmap('/opt/hhyang/Data/factors/TSX[100001_1]',dtype = np.float32, shape = (40000,1829))# ,shape = (204800, 1749))\n",
    "price = np.memmap('/opt/hhyang/Data/quotes/stk_clsadj',dtype = np.float32, shape = (40000,1829))# ,shape = (204800, 1749)) Here we have a shape error becasue memmap"
   ]
  },
  {
   "cell_type": "code",
   "execution_count": 104,
   "metadata": {},
   "outputs": [
    {
     "data": {
      "text/plain": [
       "(73160000,)"
      ]
     },
     "execution_count": 104,
     "metadata": {},
     "output_type": "execute_result"
    }
   ],
   "source": [
    "# test of reshape\n",
    "x = np.asarray(x)\n",
    "x = x.reshape(-1)\n",
    "x.shape"
   ]
  },
  {
   "cell_type": "code",
   "execution_count": 3,
   "metadata": {},
   "outputs": [],
   "source": [
    "x0 = x[:,1081]\n",
    "x1 = x[0,:]"
   ]
  },
  {
   "cell_type": "code",
   "execution_count": 4,
   "metadata": {},
   "outputs": [
    {
     "data": {
      "text/plain": [
       "memmap([0., 0., 0., ..., 0., 0., 0.], dtype=float32)"
      ]
     },
     "execution_count": 4,
     "metadata": {},
     "output_type": "execute_result"
    }
   ],
   "source": [
    "x1"
   ]
  },
  {
   "cell_type": "code",
   "execution_count": 5,
   "metadata": {},
   "outputs": [
    {
     "data": {
      "text/plain": [
       "memmap([0.        , 0.        , 0.        , 0.        , 0.        ,\n",
       "        0.        , 0.        , 0.        , 0.        , 0.        ,\n",
       "        0.        , 0.        , 0.        , 0.        , 0.        ,\n",
       "        0.        , 0.        , 0.        , 0.        , 0.        ,\n",
       "        0.        , 0.00684157, 0.0084273 , 0.0084273 , 0.0088849 ,\n",
       "        0.01046892, 0.01369885, 0.01142872, 0.01325133, 0.01532341,\n",
       "        0.01483199, 0.01731646, 0.01590588, 0.00909106, 0.01247884,\n",
       "        0.01247884, 0.01293565, 0.01840759, 0.01863695, 0.01451939,\n",
       "        0.01496623, 0.01040026, 0.01172508, 0.01753635, 0.01329297,\n",
       "        0.01483187, 0.0170868 , 0.01533633, 0.01464475, 0.01464475],\n",
       "       dtype=float32)"
      ]
     },
     "execution_count": 5,
     "metadata": {},
     "output_type": "execute_result"
    }
   ],
   "source": [
    "x0[:50]"
   ]
  },
  {
   "cell_type": "code",
   "execution_count": 6,
   "metadata": {},
   "outputs": [
    {
     "data": {
      "image/png": "[encoded data removed]",
      "text/plain": [
       "<matplotlib.figure.Figure at 0x213f12c0048>"
      ]
     },
     "metadata": {},
     "output_type": "display_data"
    }
   ],
   "source": [
    "plt.plot(x0)\n",
    "plt.show()"
   ]
  },
  {
   "cell_type": "code",
   "execution_count": 7,
   "metadata": {},
   "outputs": [
    {
     "data": {
      "image/png": "[encoded data removed]",
      "text/plain": [
       "<matplotlib.figure.Figure at 0x213f3366cf8>"
      ]
     },
     "metadata": {},
     "output_type": "display_data"
    }
   ],
   "source": [
    "plt.plot(x1)\n",
    "plt.show()"
   ]
  },
  {
   "cell_type": "code",
   "execution_count": 8,
   "metadata": {},
   "outputs": [
    {
     "name": "stdout",
     "output_type": "stream",
     "text": [
      "(40000, 1829)\n"
     ]
    }
   ],
   "source": [
    "print(price.shape)\n",
    "T = 30"
   ]
  },
  {
   "cell_type": "code",
   "execution_count": 9,
   "metadata": {},
   "outputs": [
    {
     "data": {
      "text/plain": [
       "1081"
      ]
     },
     "execution_count": 9,
     "metadata": {},
     "output_type": "execute_result"
    }
   ],
   "source": [
    "len(range(1081))"
   ]
  },
  {
   "cell_type": "code",
   "execution_count": 10,
   "metadata": {},
   "outputs": [],
   "source": [
    "y = np.zeros((price.shape[0]-T,price.shape[1]))"
   ]
  },
  {
   "cell_type": "code",
   "execution_count": 16,
   "metadata": {
    "scrolled": true
   },
   "outputs": [
    {
     "name": "stdout",
     "output_type": "stream",
     "text": [
      "0.0013800772\n",
      "0.0016703203\n",
      "0.0011641694\n",
      "0.00053213275\n",
      "2.9085128e-05\n",
      "0.00012998495\n",
      "0.00043640524\n",
      "0.0013618168\n",
      "0.0022976901\n",
      "0.0023563607\n",
      "0.0025168792\n",
      "y function run time should be,  277.69895124435425\n"
     ]
    }
   ],
   "source": [
    "y = np.zeros((price.shape[0]-T,price.shape[1]))\n",
    "'''\n",
    "This is an iteration to create target y function;\n",
    "Here we use Return rate minus Average Return Rate.\n",
    "\n",
    "First we calculate the mean return rate for every single timeslot;\n",
    "Then we calculate the return rate of each stock and return them back to y.\n",
    "\n",
    "Here we used np.nanmean() function, in case some values would be nan.\n",
    "'''\n",
    "t0 = time.time()\n",
    "for i in range(40000-T): \n",
    "    avg = []\n",
    "    for j in range(1082):\n",
    "        avg.append(np.log(price[i+T,j-1]/price[i,j-1]))\n",
    "    average = np.nanmean(avg)\n",
    "    if i <= 10:\n",
    "        print(average)\n",
    "    for j in range(1082):\n",
    "        y[i,j-1] = np.log(price[i+T,j-1]/price[i,j-1])-average\n",
    "t1 = time.time()\n",
    "\n",
    "print(\"y function running time should be, \", t1-t0)"
   ]
  },
  {
   "cell_type": "code",
   "execution_count": 12,
   "metadata": {},
   "outputs": [
    {
     "data": {
      "image/png": "[encoded data removed]",
      "text/plain": [
       "<matplotlib.figure.Figure at 0x213f3366dd8>"
      ]
     },
     "metadata": {},
     "output_type": "display_data"
    }
   ],
   "source": [
    "plt.plot(y[:,499])\n",
    "plt.ylim((-0.1,0.1))\n",
    "plt.show()"
   ]
  },
  {
   "cell_type": "code",
   "execution_count": 13,
   "metadata": {},
   "outputs": [
    {
     "data": {
      "text/plain": [
       "(39970, 1829)"
      ]
     },
     "execution_count": 13,
     "metadata": {},
     "output_type": "execute_result"
    }
   ],
   "source": [
    "y.shape\n",
    "# This shape should be equal to price.shape[0]-T, price.shape[1]"
   ]
  },
  {
   "cell_type": "markdown",
   "metadata": {},
   "source": [
    "多因子分析："
   ]
  },
  {
   "cell_type": "code",
   "execution_count": 2,
   "metadata": {},
   "outputs": [],
   "source": [
    "def import_dataset():\n",
    "    '''\n",
    "    read all 2-byte files and then concentrating them together. Follow this link:\n",
    "    https://blog.csdn.net/brucewong0516/article/details/79062340\n",
    "    '''\n",
    "    x = []\n",
    "    y = []\n",
    "    # import x\n",
    "    address = os.listdir(r'/opt/hhyang/Data/factors')\n",
    "    for path in address:\n",
    "        parent = r'/opt/hhyang/Data/factors'\n",
    "        abs_path = os.path.join(parent, path)\n",
    "        x_i = np.memmap(abs_path,dtype = np.float32, shape = (40000,1829))# ,shape = (204800, 1749))\n",
    "        x_i = np.asarray(x_i)\n",
    "        x_i = x_i[:,0:1082]\n",
    "        x_ = x_i.reshape(-1,1)\n",
    "        x.append(x_)\n",
    "        # print(abs_path)\n",
    "    # import y\n",
    "    price = np.memmap('/opt/hhyang/Data/quotes/stk_clsadj',dtype = np.float32, shape = (40000,1829))# ,shape = (204800, 1749))\n",
    "    \n",
    "    y = np.zeros((price.shape[0]-T,price.shape[1]))\n",
    "    '''\n",
    "    This is an iteration to create target y function;\n",
    "    Here we use Return rate minus Average Return Rate.\n",
    "\n",
    "    First we calculate the mean return rate for every single timeslot;\n",
    "    Then we calculate the return rate of each stock and return them back to y.\n",
    "\n",
    "    Here we used np.nanmean() function, in case some values would be nan.\n",
    "    '''\n",
    "    t0 = time.time()\n",
    "    for i in range(40000-T): \n",
    "        avg = []\n",
    "        for j in range(1082):\n",
    "            avg.append(np.log(price[i+T,j-1]/price[i,j-1]))\n",
    "        average = np.nanmean(avg)\n",
    "        if i == 0:\n",
    "            print(\"printing sample return rate:\\n\")\n",
    "        if i <= 10:\n",
    "            print(average)\n",
    "        for j in range(1082):\n",
    "            y[i,j-1] = np.log(price[i+T,j-1]/price[i,j-1])-average\n",
    "    t1 = time.time()\n",
    "    y = y[:,0:1082]\n",
    "    y_ = y.reshape(-1,1)\n",
    "    \n",
    "\n",
    "    print(\"y function running time should be, \", t1-t0)\n",
    "    print(\"the shape of x is:\", np.shape(x))\n",
    "    print(\"the shape of y is:\", y_.shape)\n",
    "    return x, y"
   ]
  },
  {
   "cell_type": "code",
   "execution_count": 3,
   "metadata": {},
   "outputs": [
    {
     "name": "stdout",
     "output_type": "stream",
     "text": [
      "printing sample return rate:\n",
      "\n",
      "0.0013800772\n",
      "0.0016703203\n",
      "0.0011641694\n",
      "0.00053213275\n",
      "2.9085128e-05\n",
      "0.00012998495\n",
      "0.00043640524\n",
      "0.0013618168\n",
      "0.0022976901\n",
      "0.0023563607\n",
      "0.0025168792\n",
      "y function running time should be,  605.5384454727173\n",
      "the shape of x is: (21, 43280000, 1)\n",
      "the shape of y is: (43247540, 1)\n"
     ]
    }
   ],
   "source": [
    "x_, y_ = import_dataset()\n"
   ]
  },
  {
   "cell_type": "markdown",
   "metadata": {},
   "source": [
    "#### 2.数据特征判断\n",
    "\n",
    "\n",
    "基础的数据特征判断，例如mean, var, quantile, outlier, distribution等。"
   ]
  },
  {
   "cell_type": "code",
   "execution_count": 55,
   "metadata": {},
   "outputs": [
    {
     "data": {
      "text/plain": [
       "'\\nmean\\nvariance\\nquantile\\noutlier\\ndistribution\\nnormalization?\\n'"
      ]
     },
     "execution_count": 55,
     "metadata": {},
     "output_type": "execute_result"
    }
   ],
   "source": [
    "# 2. data characteristics recognition\n",
    "\n",
    "'''\n",
    "mean\n",
    "variance\n",
    "quantile\n",
    "outlier\n",
    "distribution\n",
    "normalization?\n",
    "'''"
   ]
  },
  {
   "cell_type": "code",
   "execution_count": 53,
   "metadata": {},
   "outputs": [],
   "source": [
    "def describe(x):\n",
    "    '''\n",
    "    This is a description function to evaluate the characteristic of single stock.\n",
    "    Here I used this link: https://jingyan.baidu.com/article/6f2f55a18033aeb5b83e6c41.html\n",
    "    '''\n",
    "    x_numpy = np.asarray(x)\n",
    "    x_numpy = x_numpy[:,0:1082]\n",
    "    x_max = np.amax(x_numpy, axis = 0)\n",
    "    x_min = np.amin(x_numpy, axis = 0)\n",
    "    x_nor = (x_numpy - x_numpy.mean())/x_numpy.std()\n",
    "    x_max_nor = np.amax(x_nor, axis = 0)\n",
    "    x_min_nor = np.amin(x_nor, axis = 0)\n",
    "    \n",
    "    print(\"the shape of this input array is:\",x_numpy.shape)\n",
    "    print(\"the mean of this input array is:\",x_numpy.mean())\n",
    "    print(\"the var of this input array is:\",x_numpy.var())\n",
    "    print(\"25th percentile value is:\",np.percentile(x_numpy,25))\n",
    "    print(\"75th percentile value is:\",np.percentile(x_numpy,75))\n",
    "    print(\"Plotting the maximum and minimum value line:\\n\")\n",
    "    \n",
    "    plt.plot(x_max, label = 'Maximum value for each stock')\n",
    "    plt.plot(x_min, label = 'Minimum value for each stock')\n",
    "    plt.xlabel('stocks')\n",
    "    plt.ylabel('factor values')\n",
    "    plt.legend()\n",
    "    plt.show()\n",
    "    \n",
    "    print(\"Plotting the normalized dataset's character:\\n\")\n",
    "    plt.plot(x_max_nor, label = 'Normalized maximum value for each stock')\n",
    "    plt.plot(x_min_nor, label = 'Normalized minimum value for each stock')\n",
    "    plt.xlabel('stocks')\n",
    "    plt.ylabel('Normalized factor values')\n",
    "    plt.legend()\n",
    "    plt.show()"
   ]
  },
  {
   "cell_type": "code",
   "execution_count": 54,
   "metadata": {},
   "outputs": [
    {
     "name": "stdout",
     "output_type": "stream",
     "text": [
      "the shape of this input array is: (40000, 1082)\n",
      "the mean of this input array is: -5.3020445e-05\n",
      "the var of this input array is: 4.0476076e-05\n",
      "25th percentile value is: -0.0024531150702387094\n",
      "75th percentile value is: 0.0021015957463532686\n",
      "Plotting the maximum and minimum value line:\n",
      "\n"
     ]
    },
    {
     "data": {
      "image/png": "[encoded data removed]",
      "text/plain": [
       "<matplotlib.figure.Figure at 0x213a2f67a90>"
      ]
     },
     "metadata": {},
     "output_type": "display_data"
    },
    {
     "name": "stdout",
     "output_type": "stream",
     "text": [
      "Plotting the normalized dataset's character:\n",
      "\n"
     ]
    },
    {
     "data": {
      "image/png": "[encoded data removed]",
      "text/plain": [
       "<matplotlib.figure.Figure at 0x213a2f41e10>"
      ]
     },
     "metadata": {},
     "output_type": "display_data"
    }
   ],
   "source": [
    "describe(x)"
   ]
  },
  {
   "cell_type": "markdown",
   "metadata": {},
   "source": [
    "#### 3.特征工程\n",
    "通过肉眼观测, Spearson Correlation, heatmap等形式筛选本模型所需要的自变量。"
   ]
  },
  {
   "cell_type": "code",
   "execution_count": null,
   "metadata": {},
   "outputs": [],
   "source": [
    "# leave it null at this time, to make feature engineering in future."
   ]
  },
  {
   "cell_type": "markdown",
   "metadata": {},
   "source": [
    "#### 4.变量合并，训练/测试集拆分"
   ]
  },
  {
   "cell_type": "code",
   "execution_count": 4,
   "metadata": {},
   "outputs": [],
   "source": [
    "def train_test_split(x, y):\n",
    "    '''\n",
    "    此时的情况是：T = 30，\n",
    "                  40000 * 1082（21个features）的input x，被拉长为4.328e7 * 21 的数列。\n",
    "                  39970 * 1082（1个output return）的output，被拉长为4.3248e7 * 21的数列。\n",
    "    举简单的例子：用T = 3的情况，此时前面三个没有数字\n",
    " X：| | | | | | | |\n",
    "    | | | | | | | |\n",
    "    | | | | | | | |\n",
    "    | | | | | | | |\n",
    "    | | | | | | | |\n",
    "    | | | | | | | |\n",
    " P：| | | | | | | |\n",
    " Y:       | | | | | | | |\n",
    "    但是后面三个predicted y其实也没有（因为没有相对应的price做预测）\n",
    "    既然是相对收益率，那我认为应当截去X的头部30（行）（因其无法产生任何有效的收益率数值）\n",
    "    train_test分裂暂时使用35000-30:5000\n",
    "        x_numpy = x_numpy[,:0:1:,]\n",
    "    '''\n",
    "    x = np.asarray(x)\n",
    "    y = np.asarray(y)\n",
    "    y = y.reshape(-1,1)\n",
    "    # Cut first 30 rows of x\n",
    "    # 30 * 1082 = 32460\n",
    "    x = x[:,32460:,:]\n",
    "    '''\n",
    "\n",
    "    # transfer nan to 0\n",
    "    x = np.nan_to_num(x)\n",
    "    y = np.nan_to_num(y)\n",
    "    '''\n",
    "    print(np.shape(x))\n",
    "    print(y.shape)\n",
    "    \n",
    "    # cutting first \n",
    "    train_X = np.squeeze(x[:,:37837540,:]).T    # 3-D to 2-D\n",
    "    train_y = y[:37837540,:]\n",
    "    test_X = np.squeeze(x[:,37837540:,:]).T\n",
    "    test_y = y[37837540:,:]\n",
    "    \n",
    "    train_X= np.nan_to_num(train_X)\n",
    "    train_y= np.nan_to_num(train_y)\n",
    "    test_X= np.nan_to_num(test_X)\n",
    "    test_y= np.nan_to_num(test_y)\n",
    "    \n",
    "    print(\"The shape of training set's X is,\",train_X.shape)\n",
    "    print(\"The shape of training set's y is,\",train_y.shape)\n",
    "    print(\"The shape of testing set's X is,\",test_X.shape)\n",
    "    print(\"The shape of testing set's y is,\",test_y.shape)\n",
    "\n",
    "    \n",
    "    return train_X, train_y, test_X, test_y"
   ]
  },
  {
   "cell_type": "code",
   "execution_count": 5,
   "metadata": {},
   "outputs": [
    {
     "name": "stdout",
     "output_type": "stream",
     "text": [
      "(21, 43247540, 1)\n",
      "(43247540, 1)\n",
      "The shape of training set's X is, (37837540, 21)\n",
      "The shape of training set's y is, (37837540, 1)\n",
      "The shape of testing set's X is, (5410000, 21)\n",
      "The shape of testing set's y is, (5410000, 1)\n"
     ]
    }
   ],
   "source": [
    "train_X, train_y, test_X, test_y = train_test_split(x_, y_)"
   ]
  },
  {
   "cell_type": "markdown",
   "metadata": {},
   "source": [
    "#### 5. 模型拟合\n",
    "\n",
    "\n",
    "这里我们首先先用sklearn进行一系列的最简单的模型判断，以确保我们的数据和模型是可以使用的。在这个条件下，我们暂时用RMSE作为评判标准，因为数据大小变化不明显，用MSE作为评判标准会出现数值过小而无法评价的问题。"
   ]
  },
  {
   "cell_type": "markdown",
   "metadata": {},
   "source": [
    "使用的模型为：\n",
    "1. Linear\n",
    "2. Ridge\n",
    "3. Kernel Ridge\n",
    "4. Lasso\n",
    "5. Bayesian\n",
    "6. Polynominal\n",
    "7. Decision Tree\n",
    "8. Random Forest\n",
    "9. Bagging Regression\n",
    "10. Gradient Boosting Decision Tree\n",
    "11. AdaBoost\n",
    "12. SVM regression"
   ]
  },
  {
   "cell_type": "code",
   "execution_count": 53,
   "metadata": {},
   "outputs": [],
   "source": [
    "# Preparing for several judgement parameter\n",
    "\n",
    "\n",
    "\n",
    "# Accuracy\n",
    "from sklearn.metrics import accuracy_score as acc_s\n",
    "from sklearn.metrics import mean_squared_error as mse\n",
    "from scipy.stats import pearsonr\n",
    "\n",
    "'''\n",
    "Since this is a regression problem instead of classification, \n",
    "we shouldn't use accuracy_score(compared one element from each other in this case .)\n",
    "Use MSE and RMSE criteria instead.\n",
    "\n",
    "'''\n",
    "\n",
    "def rmse(y_test, y_pred):\n",
    "    return np.sqrt(mse(y_test, y_pred))\n",
    "\n",
    "def IC(x1, x2):\n",
    "    pearson = []\n",
    "    x1 = np.squeeze(x1)\n",
    "    x2 = np.squeeze(x2)\n",
    "    for i in range(int(np.shape(x1)[0]/1082)):\n",
    "        x1_ = x1[i*1082:i*1082+1082,]\n",
    "        x2_ = x2[i*1082:i*1082+1082,]\n",
    "        pearson_ = pearsonr(x1_, x2_)[0]\n",
    "        pearson.append(pearson_)\n",
    "    pearson = np.asarray(pearson)\n",
    "    pearson = np.squeeze(pearson)\n",
    "    '''\n",
    "    print(np.isnan(pearson).sum())\n",
    "    print(pearson.shape)\n",
    "    print(pearson.mean())\n",
    "    print(pearson.std())\n",
    "    '''\n",
    "    temp = pearson.mean()/pearson.std()\n",
    "    return temp\n",
    "\n",
    "def nan_transfor(x):\n",
    "    where_are_nan = np.isnan(x)\n",
    "    where_are_inf = np.isinf(x)\n",
    "    x[where_are_nan] = 0\n",
    "    x[where_are_nan] = 0\n",
    "    return x\n",
    "\n",
    "def predictor(func):\n",
    "    y_hat = func.predict(pred_x)\n",
    "    y_hat = y_hat.reshape(40000,-1)\n",
    "    return y_hat"
   ]
  },
  {
   "cell_type": "code",
   "execution_count": 7,
   "metadata": {},
   "outputs": [],
   "source": [
    "'''\n",
    "Clear content of all memories\n",
    "'''\n",
    "Method = []\n",
    "MSE = []\n",
    "RMSE = []\n",
    "Time = []\n",
    "y_hat = []\n",
    "ic = []"
   ]
  },
  {
   "cell_type": "markdown",
   "metadata": {},
   "source": [
    "##### a. Linear"
   ]
  },
  {
   "cell_type": "code",
   "execution_count": 8,
   "metadata": {},
   "outputs": [
    {
     "name": "stdout",
     "output_type": "stream",
     "text": [
      "total time used for model fitting is: 13.771728992462158\n",
      "The mse of linear regression is: 4.439202839843727e-05\n",
      "The rmse of linear regression is: 0.006662734303455097\n",
      "The IC criteria is: 1.653328944093768\n"
     ]
    }
   ],
   "source": [
    "# Here we will import several functions in sklearn for model simulation.\n",
    "from sklearn.linear_model import LinearRegression\n",
    "linear = LinearRegression()\n",
    "t0 = time.time()\n",
    "linear.fit(train_X, train_y)\n",
    "t1 = time.time()\n",
    "print(\"total time used for model fitting is:\", t1-t0)\n",
    "pred_y = linear.predict(test_X)\n",
    "accuracy1 = mse(pred_y, test_y)\n",
    "accuracy2 = rmse(pred_y, test_y)\n",
    "accuracy3 = IC(pred_y, test_y)\n",
    "print(\"The mse of linear regression is:\", accuracy1)\n",
    "print(\"The rmse of linear regression is:\", accuracy2)\n",
    "print(\"The IC criteria is:\", accuracy3)\n",
    "\n",
    "Method.append('Linear')\n",
    "MSE.append(accuracy1)\n",
    "RMSE.append(accuracy2)\n",
    "ic.append(accuracy3)\n",
    "Time.append(t1-t0)\n",
    "y_hat.append(pred_y)\n"
   ]
  },
  {
   "cell_type": "markdown",
   "metadata": {},
   "source": [
    "##### b. Ridge"
   ]
  },
  {
   "cell_type": "code",
   "execution_count": 9,
   "metadata": {},
   "outputs": [
    {
     "name": "stderr",
     "output_type": "stream",
     "text": [
      "/root/anaconda3/lib/python3.6/site-packages/sklearn/linear_model/ridge.py:112: LinAlgWarning: scipy.linalg.solve\n",
      "Ill-conditioned matrix detected. Result is not guaranteed to be accurate.\n",
      "Reciprocal condition number8.034174e-27\n",
      "  overwrite_a=True).T\n"
     ]
    },
    {
     "name": "stdout",
     "output_type": "stream",
     "text": [
      "total time used for model fitting is: 5.480012655258179\n",
      "The mse of linear regression is: 1.130734646544653e-05\n",
      "The rmse of linear regression is: 0.003362639806081902\n",
      "The IC criteria is: 24.51892973515685\n"
     ]
    }
   ],
   "source": [
    "# Here we will import several functions in sklearn for model simulation.\n",
    "from sklearn.linear_model import Ridge\n",
    "ridge = Ridge(alpha = 0.5)\n",
    "t0 = time.time()\n",
    "ridge.fit(train_X, train_y)\n",
    "t1 = time.time()\n",
    "print(\"total time used for model fitting is:\", t1-t0)\n",
    "pred_y = ridge.predict(test_X)\n",
    "accuracy1 = mse(pred_y, test_y)\n",
    "accuracy2 = rmse(pred_y, test_y)\n",
    "accuracy3 = IC(pred_y, test_y)\n",
    "\n",
    "print(\"The mse of linear regression is:\", accuracy1)\n",
    "print(\"The rmse of linear regression is:\", accuracy2)\n",
    "print(\"The IC criteria is:\", accuracy3)\n",
    "\n",
    "Method.append('Ridge')\n",
    "MSE.append(accuracy1)\n",
    "RMSE.append(accuracy2)\n",
    "ic.append(accuracy3)\n",
    "Time.append(t1-t0)\n",
    "y_hat.append(pred_y)"
   ]
  },
  {
   "cell_type": "markdown",
   "metadata": {},
   "source": [
    "##### c. Kernel Ridge"
   ]
  },
  {
   "cell_type": "code",
   "execution_count": 11,
   "metadata": {},
   "outputs": [
    {
     "data": {
      "text/plain": [
       "(37837540,)"
      ]
     },
     "execution_count": 11,
     "metadata": {},
     "output_type": "execute_result"
    }
   ],
   "source": [
    "train_y_ =  np.squeeze(train_y)\n",
    "test_y_ =  np.squeeze(test_y)\n",
    "train_y_.shape"
   ]
  },
  {
   "cell_type": "code",
   "execution_count": 63,
   "metadata": {
    "collapsed": true
   },
   "outputs": [
    {
     "ename": "MemoryError",
     "evalue": "",
     "output_type": "error",
     "traceback": [
      "\u001b[0;31m---------------------------------------------------------------------------\u001b[0m",
      "\u001b[0;31mMemoryError\u001b[0m                               Traceback (most recent call last)",
      "\u001b[0;32m<ipython-input-63-1af4dea3a406>\u001b[0m in \u001b[0;36m<module>\u001b[0;34m()\u001b[0m\n\u001b[1;32m      3\u001b[0m \u001b[0mkridge\u001b[0m \u001b[0;34m=\u001b[0m \u001b[0mKernelRidge\u001b[0m\u001b[0;34m(\u001b[0m\u001b[0mkernel\u001b[0m \u001b[0;34m=\u001b[0m \u001b[0;34m'linear'\u001b[0m\u001b[0;34m,\u001b[0m \u001b[0malpha\u001b[0m \u001b[0;34m=\u001b[0m \u001b[0;36m0.1\u001b[0m\u001b[0;34m,\u001b[0m \u001b[0mgamma\u001b[0m \u001b[0;34m=\u001b[0m \u001b[0;36m10\u001b[0m\u001b[0;34m)\u001b[0m\u001b[0;34m\u001b[0m\u001b[0m\n\u001b[1;32m      4\u001b[0m \u001b[0mt0\u001b[0m \u001b[0;34m=\u001b[0m \u001b[0mtime\u001b[0m\u001b[0;34m.\u001b[0m\u001b[0mtime\u001b[0m\u001b[0;34m(\u001b[0m\u001b[0;34m)\u001b[0m\u001b[0;34m\u001b[0m\u001b[0m\n\u001b[0;32m----> 5\u001b[0;31m \u001b[0mkridge\u001b[0m\u001b[0;34m.\u001b[0m\u001b[0mfit\u001b[0m\u001b[0;34m(\u001b[0m\u001b[0mtrain_X\u001b[0m\u001b[0;34m,\u001b[0m \u001b[0mtrain_y\u001b[0m\u001b[0;34m)\u001b[0m\u001b[0;34m\u001b[0m\u001b[0m\n\u001b[0m\u001b[1;32m      6\u001b[0m \u001b[0mt1\u001b[0m \u001b[0;34m=\u001b[0m \u001b[0mtime\u001b[0m\u001b[0;34m.\u001b[0m\u001b[0mtime\u001b[0m\u001b[0;34m(\u001b[0m\u001b[0;34m)\u001b[0m\u001b[0;34m\u001b[0m\u001b[0m\n\u001b[1;32m      7\u001b[0m \u001b[0mprint\u001b[0m\u001b[0;34m(\u001b[0m\u001b[0;34m\"total time used for model fitting is:\"\u001b[0m\u001b[0;34m,\u001b[0m \u001b[0mt1\u001b[0m\u001b[0;34m-\u001b[0m\u001b[0mt0\u001b[0m\u001b[0;34m)\u001b[0m\u001b[0;34m\u001b[0m\u001b[0m\n",
      "\u001b[0;32m~/anaconda3/lib/python3.6/site-packages/sklearn/kernel_ridge.py\u001b[0m in \u001b[0;36mfit\u001b[0;34m(self, X, y, sample_weight)\u001b[0m\n\u001b[1;32m    149\u001b[0m             \u001b[0msample_weight\u001b[0m \u001b[0;34m=\u001b[0m \u001b[0mcheck_array\u001b[0m\u001b[0;34m(\u001b[0m\u001b[0msample_weight\u001b[0m\u001b[0;34m,\u001b[0m \u001b[0mensure_2d\u001b[0m\u001b[0;34m=\u001b[0m\u001b[0;32mFalse\u001b[0m\u001b[0;34m)\u001b[0m\u001b[0;34m\u001b[0m\u001b[0m\n\u001b[1;32m    150\u001b[0m \u001b[0;34m\u001b[0m\u001b[0m\n\u001b[0;32m--> 151\u001b[0;31m         \u001b[0mK\u001b[0m \u001b[0;34m=\u001b[0m \u001b[0mself\u001b[0m\u001b[0;34m.\u001b[0m\u001b[0m_get_kernel\u001b[0m\u001b[0;34m(\u001b[0m\u001b[0mX\u001b[0m\u001b[0;34m)\u001b[0m\u001b[0;34m\u001b[0m\u001b[0m\n\u001b[0m\u001b[1;32m    152\u001b[0m         \u001b[0malpha\u001b[0m \u001b[0;34m=\u001b[0m \u001b[0mnp\u001b[0m\u001b[0;34m.\u001b[0m\u001b[0matleast_1d\u001b[0m\u001b[0;34m(\u001b[0m\u001b[0mself\u001b[0m\u001b[0;34m.\u001b[0m\u001b[0malpha\u001b[0m\u001b[0;34m)\u001b[0m\u001b[0;34m\u001b[0m\u001b[0m\n\u001b[1;32m    153\u001b[0m \u001b[0;34m\u001b[0m\u001b[0m\n",
      "\u001b[0;32m~/anaconda3/lib/python3.6/site-packages/sklearn/kernel_ridge.py\u001b[0m in \u001b[0;36m_get_kernel\u001b[0;34m(self, X, Y)\u001b[0m\n\u001b[1;32m    119\u001b[0m                       \"coef0\": self.coef0}\n\u001b[1;32m    120\u001b[0m         return pairwise_kernels(X, Y, metric=self.kernel,\n\u001b[0;32m--> 121\u001b[0;31m                                 filter_params=True, **params)\n\u001b[0m\u001b[1;32m    122\u001b[0m \u001b[0;34m\u001b[0m\u001b[0m\n\u001b[1;32m    123\u001b[0m     \u001b[0;34m@\u001b[0m\u001b[0mproperty\u001b[0m\u001b[0;34m\u001b[0m\u001b[0m\n",
      "\u001b[0;32m~/anaconda3/lib/python3.6/site-packages/sklearn/metrics/pairwise.py\u001b[0m in \u001b[0;36mpairwise_kernels\u001b[0;34m(X, Y, metric, filter_params, n_jobs, **kwds)\u001b[0m\n\u001b[1;32m   1403\u001b[0m         \u001b[0;32mraise\u001b[0m \u001b[0mValueError\u001b[0m\u001b[0;34m(\u001b[0m\u001b[0;34m\"Unknown kernel %r\"\u001b[0m \u001b[0;34m%\u001b[0m \u001b[0mmetric\u001b[0m\u001b[0;34m)\u001b[0m\u001b[0;34m\u001b[0m\u001b[0m\n\u001b[1;32m   1404\u001b[0m \u001b[0;34m\u001b[0m\u001b[0m\n\u001b[0;32m-> 1405\u001b[0;31m     \u001b[0;32mreturn\u001b[0m \u001b[0m_parallel_pairwise\u001b[0m\u001b[0;34m(\u001b[0m\u001b[0mX\u001b[0m\u001b[0;34m,\u001b[0m \u001b[0mY\u001b[0m\u001b[0;34m,\u001b[0m \u001b[0mfunc\u001b[0m\u001b[0;34m,\u001b[0m \u001b[0mn_jobs\u001b[0m\u001b[0;34m,\u001b[0m \u001b[0;34m**\u001b[0m\u001b[0mkwds\u001b[0m\u001b[0;34m)\u001b[0m\u001b[0;34m\u001b[0m\u001b[0m\n\u001b[0m",
      "\u001b[0;32m~/anaconda3/lib/python3.6/site-packages/sklearn/metrics/pairwise.py\u001b[0m in \u001b[0;36m_parallel_pairwise\u001b[0;34m(X, Y, func, n_jobs, **kwds)\u001b[0m\n\u001b[1;32m   1088\u001b[0m     \u001b[0;32mif\u001b[0m \u001b[0mn_jobs\u001b[0m \u001b[0;34m==\u001b[0m \u001b[0;36m1\u001b[0m\u001b[0;34m:\u001b[0m\u001b[0;34m\u001b[0m\u001b[0m\n\u001b[1;32m   1089\u001b[0m         \u001b[0;31m# Special case to avoid picklability checks in delayed\u001b[0m\u001b[0;34m\u001b[0m\u001b[0;34m\u001b[0m\u001b[0m\n\u001b[0;32m-> 1090\u001b[0;31m         \u001b[0;32mreturn\u001b[0m \u001b[0mfunc\u001b[0m\u001b[0;34m(\u001b[0m\u001b[0mX\u001b[0m\u001b[0;34m,\u001b[0m \u001b[0mY\u001b[0m\u001b[0;34m,\u001b[0m \u001b[0;34m**\u001b[0m\u001b[0mkwds\u001b[0m\u001b[0;34m)\u001b[0m\u001b[0;34m\u001b[0m\u001b[0m\n\u001b[0m\u001b[1;32m   1091\u001b[0m \u001b[0;34m\u001b[0m\u001b[0m\n\u001b[1;32m   1092\u001b[0m     \u001b[0;31m# TODO: in some cases, backend='threading' may be appropriate\u001b[0m\u001b[0;34m\u001b[0m\u001b[0;34m\u001b[0m\u001b[0m\n",
      "\u001b[0;32m~/anaconda3/lib/python3.6/site-packages/sklearn/metrics/pairwise.py\u001b[0m in \u001b[0;36mlinear_kernel\u001b[0;34m(X, Y)\u001b[0m\n\u001b[1;32m    740\u001b[0m     \"\"\"\n\u001b[1;32m    741\u001b[0m     \u001b[0mX\u001b[0m\u001b[0;34m,\u001b[0m \u001b[0mY\u001b[0m \u001b[0;34m=\u001b[0m \u001b[0mcheck_pairwise_arrays\u001b[0m\u001b[0;34m(\u001b[0m\u001b[0mX\u001b[0m\u001b[0;34m,\u001b[0m \u001b[0mY\u001b[0m\u001b[0;34m)\u001b[0m\u001b[0;34m\u001b[0m\u001b[0m\n\u001b[0;32m--> 742\u001b[0;31m     \u001b[0;32mreturn\u001b[0m \u001b[0msafe_sparse_dot\u001b[0m\u001b[0;34m(\u001b[0m\u001b[0mX\u001b[0m\u001b[0;34m,\u001b[0m \u001b[0mY\u001b[0m\u001b[0;34m.\u001b[0m\u001b[0mT\u001b[0m\u001b[0;34m,\u001b[0m \u001b[0mdense_output\u001b[0m\u001b[0;34m=\u001b[0m\u001b[0;32mTrue\u001b[0m\u001b[0;34m)\u001b[0m\u001b[0;34m\u001b[0m\u001b[0m\n\u001b[0m\u001b[1;32m    743\u001b[0m \u001b[0;34m\u001b[0m\u001b[0m\n\u001b[1;32m    744\u001b[0m \u001b[0;34m\u001b[0m\u001b[0m\n",
      "\u001b[0;32m~/anaconda3/lib/python3.6/site-packages/sklearn/utils/extmath.py\u001b[0m in \u001b[0;36msafe_sparse_dot\u001b[0;34m(a, b, dense_output)\u001b[0m\n\u001b[1;32m    138\u001b[0m         \u001b[0;32mreturn\u001b[0m \u001b[0mret\u001b[0m\u001b[0;34m\u001b[0m\u001b[0m\n\u001b[1;32m    139\u001b[0m     \u001b[0;32melse\u001b[0m\u001b[0;34m:\u001b[0m\u001b[0;34m\u001b[0m\u001b[0m\n\u001b[0;32m--> 140\u001b[0;31m         \u001b[0;32mreturn\u001b[0m \u001b[0mnp\u001b[0m\u001b[0;34m.\u001b[0m\u001b[0mdot\u001b[0m\u001b[0;34m(\u001b[0m\u001b[0ma\u001b[0m\u001b[0;34m,\u001b[0m \u001b[0mb\u001b[0m\u001b[0;34m)\u001b[0m\u001b[0;34m\u001b[0m\u001b[0m\n\u001b[0m\u001b[1;32m    141\u001b[0m \u001b[0;34m\u001b[0m\u001b[0m\n\u001b[1;32m    142\u001b[0m \u001b[0;34m\u001b[0m\u001b[0m\n",
      "\u001b[0;31mMemoryError\u001b[0m: "
     ]
    }
   ],
   "source": [
    "# Here we will import several functions in sklearn for model simulation.\n",
    "from sklearn.kernel_ridge import KernelRidge\n",
    "kridge = KernelRidge(kernel = 'linear', alpha = 0.1, gamma = 10)\n",
    "t0 = time.time()\n",
    "kridge.fit(train_X, train_y)\n",
    "t1 = time.time()\n",
    "print(\"total time used for model fitting is:\", t1-t0)\n",
    "pred_y = kridge.predict(test_X)\n",
    "accuracy1 = mse(pred_y, test_y_)\n",
    "accuracy2 = rmse(pred_y, test_y_)\n",
    "print(\"The mse of linear regression is:\", accuracy1)\n",
    "print(\"The rmse of linear regression is:\", accuracy2)\n",
    "\n",
    "Method.append('Kernel Ridge')\n",
    "MSE.append(accuracy1)\n",
    "RMSE.append(accuracy2)\n",
    "Time.append(t1-t0)\n",
    "y_hat.append(pred_y)\n",
    "\n",
    "accuracy3 = IC(pred_y, test_y)\n",
    "print(\"The IC criteria is:\", accuracy3)\n",
    "ic.append(accuracy3)"
   ]
  },
  {
   "cell_type": "markdown",
   "metadata": {},
   "source": [
    "##### d. Lasso"
   ]
  },
  {
   "cell_type": "code",
   "execution_count": 23,
   "metadata": {},
   "outputs": [
    {
     "name": "stderr",
     "output_type": "stream",
     "text": [
      "/root/anaconda3/lib/python3.6/site-packages/sklearn/linear_model/coordinate_descent.py:491: ConvergenceWarning: Objective did not converge. You might want to increase the number of iterations. Fitting data with very small alpha may cause precision problems.\n",
      "  ConvergenceWarning)\n"
     ]
    },
    {
     "name": "stdout",
     "output_type": "stream",
     "text": [
      "total time used for model fitting is: 1234.7652115821838\n",
      "The mse of linear regression is: 4.4044795717831626e-05\n",
      "The rmse of linear regression is: 0.006636625326009569\n",
      "The IC criteria is: 1.2480264986594305\n"
     ]
    }
   ],
   "source": [
    "# Here we will import several functions in sklearn for model simulation.\n",
    "from sklearn.linear_model import Lasso\n",
    "lasso = Lasso(alpha = 0.1)\n",
    "t0 = time.time()\n",
    "lasso.fit(train_X, train_y)\n",
    "t1 = time.time()\n",
    "print(\"total time used for model fitting is:\", t1-t0)\n",
    "pred_y_ = lasso.predict(test_X)\n",
    "accuracy1 = mse(pred_y_, test_y)\n",
    "accuracy2 = rmse(pred_y_, test_y)\n",
    "print(\"The mse of linear regression is:\", accuracy1)\n",
    "print(\"The rmse of linear regression is:\", accuracy2)\n",
    "\n",
    "Method.append('Lasso')\n",
    "MSE.append(accuracy1)\n",
    "RMSE.append(accuracy2)\n",
    "Time.append(t1-t0)\n",
    "y_hat.append(pred_y_)\n",
    "\n",
    "accuracy3 = IC(pred_y_, test_y)\n",
    "print(\"The IC criteria is:\", accuracy3)\n",
    "ic.append(accuracy3)"
   ]
  },
  {
   "cell_type": "markdown",
   "metadata": {},
   "source": [
    "##### e. Bayesian"
   ]
  },
  {
   "cell_type": "code",
   "execution_count": 12,
   "metadata": {},
   "outputs": [
    {
     "name": "stdout",
     "output_type": "stream",
     "text": [
      "total time used for model fitting is: 67.39388370513916\n",
      "The mse of linear regression is: 1.1307285071999888e-05\n",
      "The rmse of linear regression is: 0.003362630677312019\n",
      "The IC criteria is: 24.520109671042466\n"
     ]
    }
   ],
   "source": [
    "# Here we will import several functions in sklearn for model simulation.\n",
    "from sklearn.linear_model import BayesianRidge\n",
    "bridge = BayesianRidge()\n",
    "t0 = time.time()\n",
    "bridge.fit(train_X, train_y_)\n",
    "t1 = time.time()\n",
    "print(\"total time used for model fitting is:\", t1-t0)\n",
    "pred_y = bridge.predict(test_X)\n",
    "accuracy1 = mse(pred_y, test_y_)\n",
    "accuracy2 = rmse(pred_y, test_y_)\n",
    "print(\"The mse of linear regression is:\", accuracy1)\n",
    "print(\"The rmse of linear regression is:\", accuracy2)\n",
    "\n",
    "Method.append('Bayesian')\n",
    "MSE.append(accuracy1)\n",
    "RMSE.append(accuracy2)\n",
    "Time.append(t1-t0)\n",
    "y_hat.append(pred_y)\n",
    "\n",
    "accuracy3 = IC(pred_y, test_y)\n",
    "print(\"The IC criteria is:\", accuracy3)\n",
    "ic.append(accuracy3)"
   ]
  },
  {
   "cell_type": "markdown",
   "metadata": {},
   "source": [
    "##### f. Polynominal"
   ]
  },
  {
   "cell_type": "code",
   "execution_count": null,
   "metadata": {},
   "outputs": [],
   "source": [
    "'''\n",
    "Polynominal 是一种延伸变量的预处理手段，不是回归时的模型。\n",
    "\n",
    "# Here we will import several functions in sklearn for model simulation.\n",
    "from sklearn.preprocessing import PolynomialFeatures\n",
    "poly = PolynomialFeatures(degree = 2)\n",
    "t0 = time.time()\n",
    "poly.fit(train_X, train_y)\n",
    "t1 = time.time()\n",
    "print(\"total time used for model fitting is:\", t1-t0)\n",
    "pred_y = poly.predict(test_X)\n",
    "accuracy1 = mse(pred_y, test_y)\n",
    "accuracy2 = rmse(pred_y, test_y)\n",
    "print(\"The mse of linear regression is:\", accuracy1)\n",
    "print(\"The rmse of linear regression is:\", accuracy2)\n",
    "\n",
    "Method.append('Polynomial')\n",
    "MSE.append(accuracy1)\n",
    "RMSE.append(accuracy2)\n",
    "Time.append(t1-t0)\n",
    "y_hat.append(pred_y)\n",
    "\n",
    "'''\n"
   ]
  },
  {
   "cell_type": "markdown",
   "metadata": {},
   "source": [
    "##### g. Decision Tree\n",
    "\n",
    "调参方法主要看官方文档"
   ]
  },
  {
   "cell_type": "code",
   "execution_count": 13,
   "metadata": {},
   "outputs": [
    {
     "name": "stdout",
     "output_type": "stream",
     "text": [
      "total time used for model fitting is: 57.12978005409241\n",
      "The mse of Decision Tree regression is: 2.4114081521262996e-05\n",
      "The rmse of Decision Tree regression is: 0.004910609078440575\n",
      "The IC criteria is: 16.37912165648452\n"
     ]
    }
   ],
   "source": [
    "from sklearn.tree import DecisionTreeRegressor\n",
    "DTregression = DecisionTreeRegressor(splitter = 'random',\n",
    "                                    max_features = 'log2',\n",
    "                                    max_depth = 10,\n",
    "                                    min_samples_split = 10,\n",
    "                                    min_samples_leaf = 10,\n",
    "                                    )\n",
    "\n",
    "t0 = time.time()\n",
    "DTregression.fit(train_X, train_y_)\n",
    "t1 = time.time()\n",
    "print(\"total time used for model fitting is:\", t1-t0)\n",
    "pred_y = DTregression.predict(test_X)\n",
    "accuracy1 = mse(pred_y, test_y_)\n",
    "accuracy2 = rmse(pred_y, test_y_)\n",
    "print(\"The mse of Decision Tree regression is:\", accuracy1)\n",
    "print(\"The rmse of Decision Tree regression is:\", accuracy2)\n",
    "\n",
    "Method.append('Decision Tree')\n",
    "MSE.append(accuracy1)\n",
    "RMSE.append(accuracy2)\n",
    "Time.append(t1-t0)\n",
    "y_hat.append(pred_y)\n",
    "\n",
    "accuracy3 = IC(pred_y, test_y)\n",
    "print(\"The IC criteria is:\", accuracy3)\n",
    "ic.append(accuracy3)"
   ]
  },
  {
   "cell_type": "markdown",
   "metadata": {},
   "source": [
    "##### h. RF"
   ]
  },
  {
   "cell_type": "code",
   "execution_count": 14,
   "metadata": {},
   "outputs": [
    {
     "name": "stdout",
     "output_type": "stream",
     "text": [
      "total time used for model fitting is: 295.29906487464905\n",
      "The mse of Random Forest regression is: 1.083403605033247e-05\n",
      "The rmse of Random Forest regression is: 0.003291509691666192\n",
      "The IC criteria is: 42.48074194335124\n"
     ]
    }
   ],
   "source": [
    "from sklearn.ensemble import RandomForestRegressor\n",
    "RFregression = RandomForestRegressor(max_features = 'log2',\n",
    "                                     max_depth = 10,\n",
    "                                     min_samples_split = 10,\n",
    "                                     min_samples_leaf = 10,\n",
    "                                     n_jobs = 10\n",
    "                                    )\n",
    "\n",
    "t0 = time.time()\n",
    "RFregression.fit(train_X, train_y_)\n",
    "t1 = time.time()\n",
    "print(\"total time used for model fitting is:\", t1-t0)\n",
    "pred_y = RFregression.predict(test_X)\n",
    "accuracy1 = mse(pred_y, test_y_)\n",
    "accuracy2 = rmse(pred_y, test_y_)\n",
    "print(\"The mse of Random Forest regression is:\", accuracy1)\n",
    "print(\"The rmse of Random Forest regression is:\", accuracy2)\n",
    "\n",
    "Method.append('Random Forest')\n",
    "MSE.append(accuracy1)\n",
    "RMSE.append(accuracy2)\n",
    "Time.append(t1-t0)\n",
    "y_hat.append(pred_y)\n",
    "\n",
    "accuracy3 = IC(pred_y, test_y)\n",
    "print(\"The IC criteria is:\", accuracy3)\n",
    "ic.append(accuracy3)"
   ]
  },
  {
   "cell_type": "markdown",
   "metadata": {},
   "source": [
    "##### i.Bagging"
   ]
  },
  {
   "cell_type": "code",
   "execution_count": null,
   "metadata": {},
   "outputs": [],
   "source": [
    "# 不知道为什么 Bagging跑的时间特别长？？跑了一晚上没出结果\n",
    "from sklearn.ensemble import BaggingRegressor\n",
    "bag = BaggingRegressor(n_jobs = 10)\n",
    "\n",
    "t0 = time.time()\n",
    "bag.fit(train_X, train_y_)\n",
    "t1 = time.time()\n",
    "print(\"total time used for model fitting is:\", t1-t0)\n",
    "pred_y = bag.predict(test_X)\n",
    "accuracy1 = mse(pred_y, test_y_)\n",
    "accuracy2 = rmse(pred_y, test_y_)\n",
    "print(\"The mse of Random Forest regression is:\", accuracy1)\n",
    "print(\"The rmse of Random Forest regression is:\", accuracy2)\n",
    "\n",
    "Method.append('Bagging')\n",
    "MSE.append(accuracy1)\n",
    "RMSE.append(accuracy2)\n",
    "Time.append(t1-t0)\n",
    "y_hat.append(pred_y)\n",
    "\n",
    "accuracy3 = IC(pred_y, test_y)\n",
    "print(\"The IC criteria is:\", accuracy3)\n",
    "ic.append(accuracy3)"
   ]
  },
  {
   "cell_type": "markdown",
   "metadata": {},
   "source": [
    "##### j.GBDT"
   ]
  },
  {
   "cell_type": "code",
   "execution_count": 15,
   "metadata": {},
   "outputs": [
    {
     "name": "stdout",
     "output_type": "stream",
     "text": [
      "total time used for model fitting is: 735.9421718120575\n",
      "The mse of Random Forest regression is: 2.3620359510898472e-05\n",
      "The rmse of Random Forest regression is: 0.004860078138353176\n",
      "The IC criteria is: 28.636866929468507\n"
     ]
    }
   ],
   "source": [
    "from sklearn.ensemble import GradientBoostingRegressor\n",
    "GBDT = GradientBoostingRegressor(n_estimators = 10,\n",
    "                                subsample = 0.5,\n",
    "                                min_samples_split = 10,\n",
    "                                min_samples_leaf = 10,\n",
    "                                max_features = 'log2',\n",
    "                                alpha = 0.9)\n",
    "\n",
    "t0 = time.time()\n",
    "GBDT.fit(train_X, train_y_)\n",
    "t1 = time.time()\n",
    "print(\"total time used for model fitting is:\", t1-t0)\n",
    "pred_y = GBDT.predict(test_X)\n",
    "accuracy1 = mse(pred_y, test_y_)\n",
    "accuracy2 = rmse(pred_y, test_y_)\n",
    "print(\"The mse of Random Forest regression is:\", accuracy1)\n",
    "print(\"The rmse of Random Forest regression is:\", accuracy2)\n",
    "\n",
    "Method.append('GBDT')\n",
    "MSE.append(accuracy1)\n",
    "RMSE.append(accuracy2)\n",
    "Time.append(t1-t0)\n",
    "y_hat.append(pred_y)\n",
    "\n",
    "accuracy3 = IC(pred_y, test_y)\n",
    "print(\"The IC criteria is:\", accuracy3)\n",
    "ic.append(accuracy3)"
   ]
  },
  {
   "cell_type": "markdown",
   "metadata": {},
   "source": [
    "##### k.AdaBoost"
   ]
  },
  {
   "cell_type": "code",
   "execution_count": 69,
   "metadata": {},
   "outputs": [
    {
     "name": "stdout",
     "output_type": "stream",
     "text": [
      "total time used for model fitting is: 5100.945332288742\n",
      "The mse of Random Forest regression is: 4.257851327612542e-05\n",
      "The rmse of Random Forest regression is: 0.006525221320087574\n",
      "The IC criteria is: 5.721919114631133\n"
     ]
    }
   ],
   "source": [
    "from sklearn.ensemble import AdaBoostRegressor\n",
    "ada = AdaBoostRegressor(n_estimators = 10)\n",
    "\n",
    "t0 = time.time()\n",
    "ada.fit(train_X, train_y_)\n",
    "t1 = time.time()\n",
    "print(\"total time used for model fitting is:\", t1-t0)\n",
    "pred_y = ada.predict(test_X)\n",
    "accuracy1 = mse(pred_y, test_y_)\n",
    "accuracy2 = rmse(pred_y, test_y_)\n",
    "print(\"The mse of Random Forest regression is:\", accuracy1)\n",
    "print(\"The rmse of Random Forest regression is:\", accuracy2)\n",
    "\n",
    "Method.append('AdaBoost')\n",
    "MSE.append(accuracy1)\n",
    "RMSE.append(accuracy2)\n",
    "Time.append(t1-t0)\n",
    "y_hat.append(pred_y)\n",
    "\n",
    "accuracy3 = IC(pred_y, test_y)\n",
    "print(\"The IC criteria is:\", accuracy3)\n",
    "ic.append(accuracy3)"
   ]
  },
  {
   "cell_type": "markdown",
   "metadata": {},
   "source": [
    "##### i.Support Vector Machine"
   ]
  },
  {
   "cell_type": "code",
   "execution_count": 131,
   "metadata": {},
   "outputs": [
    {
     "data": {
      "text/plain": [
       "(37837540,)"
      ]
     },
     "execution_count": 131,
     "metadata": {},
     "output_type": "execute_result"
    }
   ],
   "source": [
    "train_y_ =  np.squeeze(train_y)\n",
    "test_y_ =  np.squeeze(test_y)\n",
    "train_y_.shape"
   ]
  },
  {
   "cell_type": "code",
   "execution_count": 132,
   "metadata": {},
   "outputs": [
    {
     "name": "stdout",
     "output_type": "stream",
     "text": [
      "total time used for model fitting is: 2033.369295835495\n",
      "The mse of SVM regression is: 0.0007306737586663361\n",
      "The rmse of SVM regression is: 0.027030977760087335\n",
      "The IC criteria is: 0.15087742969332227\n"
     ]
    }
   ],
   "source": [
    "from sklearn.svm import SVR\n",
    "svmregression = SVR(C=1.0, epsilon=0.2)\n",
    "\n",
    "t0 = time.time()\n",
    "svmregression.fit(train_X, train_y_)\n",
    "t1 = time.time()\n",
    "print(\"total time used for model fitting is:\", t1-t0)\n",
    "pred_y = svmregression.predict(test_X)\n",
    "accuracy1 = mse(pred_y, test_y_)\n",
    "accuracy2 = rmse(pred_y, test_y_)\n",
    "print(\"The mse of SVM regression is:\", accuracy1)\n",
    "print(\"The rmse of SVM regression is:\", accuracy2)\n",
    "\n",
    "\n",
    "\n",
    "Method.append('SVM')\n",
    "MSE.append(accuracy1)\n",
    "RMSE.append(accuracy2)\n",
    "Time.append(t1-t0)\n",
    "y_hat.append(pred_y)\n",
    "\n",
    "accuracy3 = IC(pred_y, test_y)\n",
    "print(\"The IC criteria is:\", accuracy3)\n",
    "ic.append(accuracy3)"
   ]
  },
  {
   "cell_type": "markdown",
   "metadata": {},
   "source": [
    "##### 6. 导出数据, 数据分析"
   ]
  },
  {
   "cell_type": "code",
   "execution_count": 133,
   "metadata": {},
   "outputs": [],
   "source": [
    "Dict = {\n",
    "    'mse':np.asarray(MSE),\n",
    "    'rmse':np.asarray(RMSE),\n",
    "    'time':np.asarray(Time),\n",
    "    'IC':np.asarray(ic),\n",
    "    # 'y_hat':y_hat\n",
    "    # dataframe\n",
    "}\n",
    "result = pd.DataFrame(Dict, index = Method)\n"
   ]
  },
  {
   "cell_type": "code",
   "execution_count": 134,
   "metadata": {},
   "outputs": [
    {
     "data": {
      "text/html": [
       "<div>\n",
       "<style scoped>\n",
       "    .dataframe tbody tr th:only-of-type {\n",
       "        vertical-align: middle;\n",
       "    }\n",
       "\n",
       "    .dataframe tbody tr th {\n",
       "        vertical-align: top;\n",
       "    }\n",
       "\n",
       "    .dataframe thead th {\n",
       "        text-align: right;\n",
       "    }\n",
       "</style>\n",
       "<table border=\"1\" class=\"dataframe\">\n",
       "  <thead>\n",
       "    <tr style=\"text-align: right;\">\n",
       "      <th></th>\n",
       "      <th>mse</th>\n",
       "      <th>rmse</th>\n",
       "      <th>time</th>\n",
       "      <th>IC</th>\n",
       "    </tr>\n",
       "  </thead>\n",
       "  <tbody>\n",
       "    <tr>\n",
       "      <th>Linear</th>\n",
       "      <td>0.000044</td>\n",
       "      <td>0.006663</td>\n",
       "      <td>13.771729</td>\n",
       "      <td>1.653329</td>\n",
       "    </tr>\n",
       "    <tr>\n",
       "      <th>Ridge</th>\n",
       "      <td>0.000011</td>\n",
       "      <td>0.003363</td>\n",
       "      <td>5.480013</td>\n",
       "      <td>24.518930</td>\n",
       "    </tr>\n",
       "    <tr>\n",
       "      <th>Bayesian</th>\n",
       "      <td>0.000011</td>\n",
       "      <td>0.003363</td>\n",
       "      <td>67.393884</td>\n",
       "      <td>24.520110</td>\n",
       "    </tr>\n",
       "    <tr>\n",
       "      <th>Decision Tree</th>\n",
       "      <td>0.000024</td>\n",
       "      <td>0.004911</td>\n",
       "      <td>57.129780</td>\n",
       "      <td>16.379122</td>\n",
       "    </tr>\n",
       "    <tr>\n",
       "      <th>Random Forest</th>\n",
       "      <td>0.000011</td>\n",
       "      <td>0.003292</td>\n",
       "      <td>295.299065</td>\n",
       "      <td>42.480742</td>\n",
       "    </tr>\n",
       "    <tr>\n",
       "      <th>GBDT</th>\n",
       "      <td>0.000024</td>\n",
       "      <td>0.004860</td>\n",
       "      <td>735.942172</td>\n",
       "      <td>28.636867</td>\n",
       "    </tr>\n",
       "    <tr>\n",
       "      <th>Lasso</th>\n",
       "      <td>0.000044</td>\n",
       "      <td>0.006637</td>\n",
       "      <td>1234.765212</td>\n",
       "      <td>1.248026</td>\n",
       "    </tr>\n",
       "    <tr>\n",
       "      <th>AdaBoost</th>\n",
       "      <td>0.000043</td>\n",
       "      <td>0.006525</td>\n",
       "      <td>5100.945332</td>\n",
       "      <td>5.721919</td>\n",
       "    </tr>\n",
       "    <tr>\n",
       "      <th>SVM</th>\n",
       "      <td>0.000731</td>\n",
       "      <td>0.027031</td>\n",
       "      <td>2033.369296</td>\n",
       "      <td>0.150877</td>\n",
       "    </tr>\n",
       "  </tbody>\n",
       "</table>\n",
       "</div>"
      ],
      "text/plain": [
       "                    mse      rmse         time         IC\n",
       "Linear         0.000044  0.006663    13.771729   1.653329\n",
       "Ridge          0.000011  0.003363     5.480013  24.518930\n",
       "Bayesian       0.000011  0.003363    67.393884  24.520110\n",
       "Decision Tree  0.000024  0.004911    57.129780  16.379122\n",
       "Random Forest  0.000011  0.003292   295.299065  42.480742\n",
       "GBDT           0.000024  0.004860   735.942172  28.636867\n",
       "Lasso          0.000044  0.006637  1234.765212   1.248026\n",
       "AdaBoost       0.000043  0.006525  5100.945332   5.721919\n",
       "SVM            0.000731  0.027031  2033.369296   0.150877"
      ]
     },
     "execution_count": 134,
     "metadata": {},
     "output_type": "execute_result"
    }
   ],
   "source": [
    "result"
   ]
  },
  {
   "cell_type": "code",
   "execution_count": 72,
   "metadata": {},
   "outputs": [],
   "source": [
    "result.to_csv('/opt/hhyang/result.csv')"
   ]
  },
  {
   "cell_type": "code",
   "execution_count": 137,
   "metadata": {},
   "outputs": [
    {
     "data": {
      "text/plain": [
       "<Figure size 432x288 with 0 Axes>"
      ]
     },
     "metadata": {},
     "output_type": "display_data"
    },
    {
     "data": {
      "image/png": "[encoded data removed]",
      "text/plain": [
       "<Figure size 1080x648 with 1 Axes>"
      ]
     },
     "metadata": {},
     "output_type": "display_data"
    },
    {
     "data": {
      "image/png": "[encoded data removed]",
      "text/plain": [
       "<Figure size 1080x648 with 1 Axes>"
      ]
     },
     "metadata": {},
     "output_type": "display_data"
    },
    {
     "data": {
      "image/png": "[encoded data removed]",
      "text/plain": [
       "<Figure size 1080x648 with 1 Axes>"
      ]
     },
     "metadata": {},
     "output_type": "display_data"
    }
   ],
   "source": [
    "\n",
    "sns.despine()  \n",
    "sns.set_style(\"whitegrid\")  \n",
    "plt.figure(figsize=(15,9))\n",
    "plt.plot(result['IC'], label = 'ic')\n",
    "plt.title(\"IC criteria simulation result\")\n",
    "plt.legend()\n",
    "plt.show()\n",
    "\n",
    "plt.figure(figsize=(15,9))\n",
    "plt.plot(result['mse'], label = 'mse')\n",
    "plt.title(\"MSE criteria simulation result\")\n",
    "plt.legend()\n",
    "plt.show()\n",
    "\n",
    "plt.figure(figsize=(15,9))\n",
    "plt.plot(result['rmse'], label = 'rmse')\n",
    "plt.title(\"RMSE criteria simulation result\")\n",
    "plt.legend()\n",
    "plt.show()"
   ]
  },
  {
   "cell_type": "code",
   "execution_count": 59,
   "metadata": {},
   "outputs": [],
   "source": [
    "# reshaping input x\n",
    "pred_x = np.squeeze(x_).T\n",
    "pred_x = nan_transfer(pred_x)\n",
    "pred_x.shape\n",
    "\n",
    "# outputs\n",
    "y_hat_linear = predictor(linear)\n",
    "y_hat_ridge = predictor(ridge)\n",
    "y_hat_bridge = predictor(bridge)\n",
    "y_hat_DTregression = predictor(DTregression)\n",
    "y_hat_RFregression = predictor(RFregression)\n",
    "y_hat_GBDT = predictor(GBDT)\n",
    "y_hat_lasso = predictor(lasso)\n",
    "y_hat_ada = predictor(ada)"
   ]
  },
  {
   "cell_type": "code",
   "execution_count": 65,
   "metadata": {},
   "outputs": [],
   "source": [
    "np.savetxt('/opt/hhyang/linear.txt',y_hat_linear)\n",
    "np.savetxt('/opt/hhyang/ridge.txt',y_hat_ridge)\n",
    "np.savetxt('/opt/hhyang/bridge.txt',y_hat_bridge)\n",
    "np.savetxt('/opt/hhyang/DecisionTree.txt',y_hat_DTregression)\n",
    "np.savetxt('/opt/hhyang/RandomForest.txt',y_hat_RFregression)\n",
    "np.savetxt('/opt/hhyang/GBDT.txt',y_hat_GBDT)\n",
    "np.savetxt('/opt/hhyang/Lasso.txt',y_hat_lasso)\n",
    "np.savetxt('/opt/hhyang/ada.txt',y_hat_ada)"
   ]
  },
  {
   "cell_type": "code",
   "execution_count": 103,
   "metadata": {},
   "outputs": [],
   "source": [
    "# Stacking zeros for type\n",
    "zeros = np.zeros((40000, 747))\n",
    "y_hat_linear = np.c_[y_hat_linear, zeros]\n",
    "y_hat_ridge = np.c_[y_hat_ridge, zeros]\n",
    "y_hat_bridge = np.c_[y_hat_bridge, zeros]\n",
    "y_hat_DTregression = np.c_[y_hat_DTregression, zeros]\n",
    "y_hat_RFregression = np.c_[y_hat_RFregression, zeros]\n",
    "y_hat_GBDT = np.c_[y_hat_GBDT, zeros]\n",
    "y_hat_lasso = np.c_[y_hat_lasso, zeros]\n",
    "y_hat_ada = np.c_[y_hat_ada, zeros]"
   ]
  },
  {
   "cell_type": "code",
   "execution_count": 114,
   "metadata": {},
   "outputs": [],
   "source": [
    "# Stacking zeros for type\n",
    "zero = np.zeros((320, 1829))\n",
    "y_hat_linear = np.r_[y_hat_linear, zero]\n",
    "y_hat_ridge = np.r_[y_hat_ridge, zero]\n",
    "y_hat_bridge = np.r_[y_hat_bridge, zero]\n",
    "y_hat_DTregression = np.r_[y_hat_DTregression, zero]\n",
    "y_hat_RFregression = np.r_[y_hat_RFregression, zero]\n",
    "y_hat_GBDT = np.r_[y_hat_GBDT, zero]\n",
    "y_hat_lasso = np.r_[y_hat_lasso, zero]\n",
    "y_hat_ada = np.r_[y_hat_ada, zero]"
   ]
  },
  {
   "cell_type": "code",
   "execution_count": 117,
   "metadata": {},
   "outputs": [],
   "source": [
    "# Transfer float64 into float32\n",
    "y_hat_linear = y_hat_linear.astype('float32')\n",
    "y_hat_ridge = y_hat_ridge.astype('float32')\n",
    "y_hat_bridge = y_hat_bridge.astype('float32')\n",
    "y_hat_DTregression = y_hat_DTregression.astype('float32')\n",
    "y_hat_RFregression = y_hat_RFregression.astype('float32')\n",
    "y_hat_GBDT = y_hat_GBDT.astype('float32')\n",
    "y_hat_lasso = y_hat_lasso.astype('float32')\n",
    "y_hat_ada = y_hat_ada.astype('float32')"
   ]
  },
  {
   "cell_type": "code",
   "execution_count": 120,
   "metadata": {},
   "outputs": [
    {
     "data": {
      "text/plain": [
       "dtype('float32')"
      ]
     },
     "execution_count": 120,
     "metadata": {},
     "output_type": "execute_result"
    }
   ],
   "source": [
    "y_hat_linear.dtype"
   ]
  },
  {
   "cell_type": "code",
   "execution_count": 118,
   "metadata": {},
   "outputs": [],
   "source": [
    "# Output into requried type.\n",
    "# 288 k kb\n",
    "y_hat_linear.tofile('/opt/hhyang/linear.bin')\n",
    "y_hat_ridge.tofile('/opt/hhyang/ridge.bin')\n",
    "y_hat_bridge.tofile('/opt/hhyang/bridge.bin')\n",
    "y_hat_DTregression.tofile('/opt/hhyang/DTregression.bin')\n",
    "y_hat_RFregression.tofile('/opt/hhyang/RFregression.bin')\n",
    "y_hat_GBDT.tofile('/opt/hhyang/GBDT.bin')\n",
    "y_hat_lasso.tofile('/opt/hhyang/lasso.bin')\n",
    "y_hat_ada.tofile('/opt/hhyang/ada.bin')"
   ]
  },
  {
   "cell_type": "markdown",
   "metadata": {},
   "source": [
    "##### Logistics 不用了\n",
    "\n",
    "这里要用标准化的方法。\n",
    "x_bar = (x - MIN)/(MAX-MIN)\n",
    "\n",
    "回归问题不要用分类模型（虽然可以做）"
   ]
  },
  {
   "cell_type": "code",
   "execution_count": null,
   "metadata": {},
   "outputs": [],
   "source": [
    "'''\n",
    "Standardization process.\n",
    "'''\n",
    "y_max = np.nanmax(y_)\n",
    "y_min = np.nanmin(y_)\n",
    "def standardization(x):\n",
    "    return (x-y_min)/(y_max - y_min)\n",
    "train_y_logistic = standardization(train_y)\n",
    "test_y_logistic = standardization(test_y)"
   ]
  },
  {
   "cell_type": "code",
   "execution_count": 23,
   "metadata": {},
   "outputs": [
    {
     "name": "stderr",
     "output_type": "stream",
     "text": [
      "/root/anaconda3/lib/python3.6/site-packages/sklearn/utils/validation.py:578: DataConversionWarning: A column-vector y was passed when a 1d array was expected. Please change the shape of y to (n_samples, ), for example using ravel().\n",
      "  y = column_or_1d(y, warn=True)\n"
     ]
    },
    {
     "ename": "ValueError",
     "evalue": "Unknown label type: 'continuous'",
     "output_type": "error",
     "traceback": [
      "\u001b[0;31m---------------------------------------------------------------------------\u001b[0m",
      "\u001b[0;31mValueError\u001b[0m                                Traceback (most recent call last)",
      "\u001b[0;32m<ipython-input-23-70d06ac1d41a>\u001b[0m in \u001b[0;36m<module>\u001b[0;34m()\u001b[0m\n\u001b[1;32m      2\u001b[0m \u001b[0mlogistic\u001b[0m \u001b[0;34m=\u001b[0m \u001b[0mLogisticRegression\u001b[0m\u001b[0;34m(\u001b[0m\u001b[0;34m)\u001b[0m\u001b[0;34m\u001b[0m\u001b[0m\n\u001b[1;32m      3\u001b[0m \u001b[0mt0\u001b[0m \u001b[0;34m=\u001b[0m \u001b[0mtime\u001b[0m\u001b[0;34m.\u001b[0m\u001b[0mtime\u001b[0m\u001b[0;34m(\u001b[0m\u001b[0;34m)\u001b[0m\u001b[0;34m\u001b[0m\u001b[0m\n\u001b[0;32m----> 4\u001b[0;31m \u001b[0mlogistic\u001b[0m\u001b[0;34m.\u001b[0m\u001b[0mfit\u001b[0m\u001b[0;34m(\u001b[0m\u001b[0mtrain_X\u001b[0m\u001b[0;34m,\u001b[0m \u001b[0mtrain_y_logistic\u001b[0m\u001b[0;34m)\u001b[0m\u001b[0;34m\u001b[0m\u001b[0m\n\u001b[0m\u001b[1;32m      5\u001b[0m \u001b[0mt1\u001b[0m \u001b[0;34m=\u001b[0m \u001b[0mtime\u001b[0m\u001b[0;34m.\u001b[0m\u001b[0mtime\u001b[0m\u001b[0;34m(\u001b[0m\u001b[0;34m)\u001b[0m\u001b[0;34m\u001b[0m\u001b[0m\n\u001b[1;32m      6\u001b[0m \u001b[0mprint\u001b[0m\u001b[0;34m(\u001b[0m\u001b[0;34m\"total time used for model fitting is:\"\u001b[0m\u001b[0;34m,\u001b[0m \u001b[0mt1\u001b[0m\u001b[0;34m-\u001b[0m\u001b[0mt0\u001b[0m\u001b[0;34m)\u001b[0m\u001b[0;34m\u001b[0m\u001b[0m\n",
      "\u001b[0;32m~/anaconda3/lib/python3.6/site-packages/sklearn/linear_model/logistic.py\u001b[0m in \u001b[0;36mfit\u001b[0;34m(self, X, y, sample_weight)\u001b[0m\n\u001b[1;32m   1215\u001b[0m         X, y = check_X_y(X, y, accept_sparse='csr', dtype=_dtype,\n\u001b[1;32m   1216\u001b[0m                          order=\"C\")\n\u001b[0;32m-> 1217\u001b[0;31m         \u001b[0mcheck_classification_targets\u001b[0m\u001b[0;34m(\u001b[0m\u001b[0my\u001b[0m\u001b[0;34m)\u001b[0m\u001b[0;34m\u001b[0m\u001b[0m\n\u001b[0m\u001b[1;32m   1218\u001b[0m         \u001b[0mself\u001b[0m\u001b[0;34m.\u001b[0m\u001b[0mclasses_\u001b[0m \u001b[0;34m=\u001b[0m \u001b[0mnp\u001b[0m\u001b[0;34m.\u001b[0m\u001b[0munique\u001b[0m\u001b[0;34m(\u001b[0m\u001b[0my\u001b[0m\u001b[0;34m)\u001b[0m\u001b[0;34m\u001b[0m\u001b[0m\n\u001b[1;32m   1219\u001b[0m         \u001b[0mn_samples\u001b[0m\u001b[0;34m,\u001b[0m \u001b[0mn_features\u001b[0m \u001b[0;34m=\u001b[0m \u001b[0mX\u001b[0m\u001b[0;34m.\u001b[0m\u001b[0mshape\u001b[0m\u001b[0;34m\u001b[0m\u001b[0m\n",
      "\u001b[0;32m~/anaconda3/lib/python3.6/site-packages/sklearn/utils/multiclass.py\u001b[0m in \u001b[0;36mcheck_classification_targets\u001b[0;34m(y)\u001b[0m\n\u001b[1;32m    170\u001b[0m     if y_type not in ['binary', 'multiclass', 'multiclass-multioutput',\n\u001b[1;32m    171\u001b[0m                       'multilabel-indicator', 'multilabel-sequences']:\n\u001b[0;32m--> 172\u001b[0;31m         \u001b[0;32mraise\u001b[0m \u001b[0mValueError\u001b[0m\u001b[0;34m(\u001b[0m\u001b[0;34m\"Unknown label type: %r\"\u001b[0m \u001b[0;34m%\u001b[0m \u001b[0my_type\u001b[0m\u001b[0;34m)\u001b[0m\u001b[0;34m\u001b[0m\u001b[0m\n\u001b[0m\u001b[1;32m    173\u001b[0m \u001b[0;34m\u001b[0m\u001b[0m\n\u001b[1;32m    174\u001b[0m \u001b[0;34m\u001b[0m\u001b[0m\n",
      "\u001b[0;31mValueError\u001b[0m: Unknown label type: 'continuous'"
     ]
    }
   ],
   "source": [
    "from sklearn.linear_model import LogisticRegression\n",
    "logistic = LogisticRegression()\n",
    "t0 = time.time()\n",
    "logistic.fit(train_X, train_y_logistic)\n",
    "t1 = time.time()\n",
    "print(\"total time used for model fitting is:\", t1-t0)\n",
    "pred_y = logistic.predict(test_X)\n",
    "accuracy1 = mse(pred_y, test_y_logistic)\n",
    "accuracy2 = rmse(pred_y, test_y_logistic)\n",
    "print(\"The mse of logistics regression is:\", accuracy1)\n",
    "print(\"The rmse of logistics regression is:\", accuracy2)"
   ]
  },
  {
   "cell_type": "markdown",
   "metadata": {},
   "source": [
    "## 6. 后续工作\n",
    "\n",
    "后续工作会根据之前工作的进行，大致方向为：研究 in-sample/out of sample strategy 进行一些机器学习的研究：\n",
    "    1. 训练出模型/accuracy/bais/variance 尝试各种各样的建模方式 最顺手而且性能更好；\n",
    "    2. 做出模型后如何进行交易、什么条件下进行买卖、增强学习。\n"
   ]
  },
  {
   "cell_type": "markdown",
   "metadata": {},
   "source": [
    "1. 因模型运作时间过长，我们需要继续探索Bagging/SVM/Kernal Ridge Regression的运作情况。"
   ]
  },
  {
   "cell_type": "code",
   "execution_count": 126,
   "metadata": {},
   "outputs": [],
   "source": [
    "# Bagging Regression"
   ]
  },
  {
   "cell_type": "code",
   "execution_count": 127,
   "metadata": {},
   "outputs": [],
   "source": [
    "# SVM Regression"
   ]
  },
  {
   "cell_type": "code",
   "execution_count": 128,
   "metadata": {},
   "outputs": [],
   "source": [
    "# Kernal Ridge Regression"
   ]
  },
  {
   "cell_type": "markdown",
   "metadata": {},
   "source": [
    "2. 使用如下优化方法对模型进行优化："
   ]
  },
  {
   "cell_type": "code",
   "execution_count": 17,
   "metadata": {},
   "outputs": [],
   "source": [
    "# Normalized Gradient Descent"
   ]
  },
  {
   "cell_type": "code",
   "execution_count": 18,
   "metadata": {},
   "outputs": [],
   "source": [
    "# Stogastic Gradient Descent"
   ]
  },
  {
   "cell_type": "code",
   "execution_count": 19,
   "metadata": {},
   "outputs": [],
   "source": [
    "# Batch Gradient Descent"
   ]
  },
  {
   "cell_type": "code",
   "execution_count": 20,
   "metadata": {},
   "outputs": [],
   "source": [
    "# Monmentum Gradient Descent"
   ]
  },
  {
   "cell_type": "markdown",
   "metadata": {},
   "source": [
    "3. 使用如下深度学习模型拟合数据："
   ]
  },
  {
   "cell_type": "code",
   "execution_count": 121,
   "metadata": {},
   "outputs": [],
   "source": [
    "# MLP"
   ]
  },
  {
   "cell_type": "code",
   "execution_count": 21,
   "metadata": {},
   "outputs": [],
   "source": [
    "# Simple RNN"
   ]
  },
  {
   "cell_type": "code",
   "execution_count": 22,
   "metadata": {},
   "outputs": [],
   "source": [
    "# GRU-RNN"
   ]
  },
  {
   "cell_type": "code",
   "execution_count": 129,
   "metadata": {},
   "outputs": [],
   "source": [
    "# LSTM-RNN"
   ]
  },
  {
   "cell_type": "code",
   "execution_count": 130,
   "metadata": {},
   "outputs": [],
   "source": [
    "# GAN-RNN"
   ]
  },
  {
   "cell_type": "markdown",
   "metadata": {},
   "source": [
    "4. 使用如下降维方式增加效率"
   ]
  },
  {
   "cell_type": "code",
   "execution_count": 122,
   "metadata": {},
   "outputs": [],
   "source": [
    "# PCA"
   ]
  },
  {
   "cell_type": "code",
   "execution_count": 123,
   "metadata": {},
   "outputs": [],
   "source": [
    "# LDA"
   ]
  },
  {
   "cell_type": "code",
   "execution_count": 124,
   "metadata": {},
   "outputs": [],
   "source": [
    "# LLE "
   ]
  },
  {
   "cell_type": "code",
   "execution_count": 125,
   "metadata": {},
   "outputs": [],
   "source": [
    "# Laplacian Eigenmaps"
   ]
  }
 ],
 "metadata": {
  "anaconda-cloud": {},
  "kernelspec": {
   "display_name": "Python [default]",
   "language": "python",
   "name": "python3"
  },
  "language_info": {
   "codemirror_mode": {
    "name": "ipython",
    "version": 3
   },
   "file_extension": ".py",
   "mimetype": "text/x-python",
   "name": "python",
   "nbconvert_exporter": "python",
   "pygments_lexer": "ipython3",
   "version": "3.5.2"
  }
 },
 "nbformat": 4,
 "nbformat_minor": 2
}
