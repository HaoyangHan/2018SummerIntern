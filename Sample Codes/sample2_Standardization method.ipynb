{
 "cells": [
  {
   "cell_type": "markdown",
   "metadata": {},
   "source": [
    "# Standardization method\n",
    "Haoyang Han"
   ]
  },
  {
   "cell_type": "markdown",
   "metadata": {},
   "source": [
    "For every single time point and every single parameter, do standardization."
   ]
  },
  {
   "cell_type": "markdown",
   "metadata": {},
   "source": [
    "#### 1. Import dataset"
   ]
  },
  {
   "cell_type": "code",
   "execution_count": 2,
   "metadata": {},
   "outputs": [],
   "source": [
    "# 1. Import Dataset\n",
    "import numpy as np\n",
    "import pandas as pd\n",
    "import matplotlib.pyplot as plt\n",
    "import seaborn as sns\n",
    "sns.set()\n",
    "\n",
    "import time\n",
    "import os\n",
    "\n",
    "\n",
    "# Define Hyperparameters\n",
    "T = 30"
   ]
  },
  {
   "cell_type": "markdown",
   "metadata": {},
   "source": [
    "Multi-variable analysis："
   ]
  },
  {
   "cell_type": "code",
   "execution_count": 3,
   "metadata": {},
   "outputs": [],
   "source": [
    "def import_dataset():\n",
    "    '''\n",
    "    read all 2-byte files and then concentrating them together. Follow this link:\n",
    "    https://blog.csdn.net/brucewong0516/article/details/79062340\n",
    "    '''\n",
    "    x = []\n",
    "    y = []\n",
    "    # import x\n",
    "    address = os.listdir(r'/opt/hhyang/Data/factors')\n",
    "    for path in address:\n",
    "        parent = r'/opt/hhyang/Data/factors'\n",
    "        abs_path = os.path.join(parent, path)\n",
    "        x_i = np.memmap(abs_path,dtype = np.float32, shape = (40000,1829))# ,shape = (204800, 1749))\n",
    "        x_i = np.asarray(x_i)\n",
    "        x_i = x_i[:,0:1082]\n",
    "        x_ = x_i.reshape(-1,1)\n",
    "        x.append(x_)\n",
    "        # print(abs_path)\n",
    "    # import y\n",
    "    price = np.memmap('/opt/hhyang/Data/quotes/stk_clsadj',dtype = np.float32, shape = (40000,1829))# ,shape = (204800, 1749))\n",
    "    \n",
    "    y = np.zeros((price.shape[0]-T,price.shape[1]))\n",
    "    '''\n",
    "    This is an iteration to create target y function;\n",
    "    Here we use Return rate minus Average Return Rate.\n",
    "\n",
    "    First we calculate the mean return rate for every single timeslot;\n",
    "    Then we calculate the return rate of each stock and return them back to y.\n",
    "\n",
    "    Here we used np.nanmean() function, in case some values would be nan.\n",
    "    '''\n",
    "    t0 = time.time()\n",
    "    for i in range(40000-T): \n",
    "        avg = []\n",
    "        for j in range(1082):\n",
    "            avg.append(np.log(price[i+T,j-1]/price[i,j-1]))\n",
    "        average = np.nanmean(avg)\n",
    "        if i == 0:\n",
    "            print(\"printing sample return rate:\\n\")\n",
    "        if i <= 10:\n",
    "            print(average)\n",
    "        for j in range(1082):\n",
    "            y[i,j-1] = np.log(price[i+T,j-1]/price[i,j-1])-average\n",
    "    t1 = time.time()\n",
    "    y = y[:,0:1082]\n",
    "    y_ = y.reshape(-1,1)\n",
    "    \n",
    "\n",
    "    print(\"y function running time should be, \", t1-t0)\n",
    "    print(\"the shape of x is:\", np.shape(x))\n",
    "    print(\"the shape of y is:\", y_.shape)\n",
    "    return x, y"
   ]
  },
  {
   "cell_type": "code",
   "execution_count": 4,
   "metadata": {
    "scrolled": true
   },
   "outputs": [
    {
     "name": "stdout",
     "output_type": "stream",
     "text": [
      "printing sample return rate:\n",
      "\n",
      "0.0013800772\n",
      "0.0016703203\n",
      "0.0011641694\n",
      "0.00053213275\n",
      "2.9085128e-05\n",
      "0.00012998495\n",
      "0.00043640524\n",
      "0.0013618168\n",
      "0.0022976901\n",
      "0.0023563607\n",
      "0.0025168792\n",
      "y function running time should be,  553.167578458786\n",
      "the shape of x is: (21, 43280000, 1)\n",
      "the shape of y is: (43247540, 1)\n"
     ]
    }
   ],
   "source": [
    "x_, y_ = import_dataset()\n"
   ]
  },
  {
   "cell_type": "markdown",
   "metadata": {},
   "source": [
    "#### 2. Feature Engineering"
   ]
  },
  {
   "cell_type": "markdown",
   "metadata": {},
   "source": [
    "Outline for possible solution:\n",
    "1. Standardization\n",
    "2. Develop Sharpe Ratio Criteria\n",
    "3. Select best Ratios"
   ]
  },
  {
   "cell_type": "markdown",
   "metadata": {},
   "source": [
    "##### 1. Standardization"
   ]
  },
  {
   "cell_type": "code",
   "execution_count": 5,
   "metadata": {},
   "outputs": [],
   "source": [
    "def standardization(x):\n",
    "    # x = np.asarray(x)\n",
    "    x = np.squeeze(x).T\n",
    "    print('the shape of input matrix is %d, %d' %(x.shape[0],x.shape[1]))\n",
    "    \n",
    "    t0 = time.time()\n",
    "    x_bar = np.zeros(x.shape)\n",
    "    for i in range(int(x.shape[0] / 1082)):\n",
    "        for j in range(21):\n",
    "            x_ = x[i * 1082: i* 1082 + 1082, j]\n",
    "            max_x = np.nanmax(x_) #there exist nan value in this np array\n",
    "            min_x = np.nanmin(x_)\n",
    "            if max_x - min_x != 0:\n",
    "                x_hat = (x_ - min_x)/(max_x - min_x) # this should be a range(0,1) standardization\n",
    "                x_hat = 2 * x_hat - 1\n",
    "                x_bar[i * 1082: i* 1082 + 1082, j] = x_hat\n",
    "            else:\n",
    "                x_hat = np.zeros(1082)\n",
    "                x_bar[i * 1082: i* 1082 + 1082, j] = x_hat\n",
    "    t1 = time.time()\n",
    "    print('Total transfer time is %d' %(t1-t0))\n",
    "    x_bar = np.asarray(x_bar)\n",
    "    return x_bar\n",
    "\n",
    "def nan_transfer(x):\n",
    "    where_are_nan = np.isnan(x)\n",
    "    where_are_inf = np.isinf(x)\n",
    "    x[where_are_nan] = 0\n",
    "    x[where_are_nan] = 0\n",
    "    return x"
   ]
  },
  {
   "cell_type": "code",
   "execution_count": 6,
   "metadata": {},
   "outputs": [
    {
     "name": "stdout",
     "output_type": "stream",
     "text": [
      "the shape of input matrix is 43280000, 21\n",
      "Total transfer time is 53\n"
     ]
    }
   ],
   "source": [
    "x__ = standardization(x_)\n",
    "x__ = nan_transfer(x__)"
   ]
  },
  {
   "cell_type": "code",
   "execution_count": 7,
   "metadata": {},
   "outputs": [
    {
     "data": {
      "text/plain": [
       "(43280000, 21)"
      ]
     },
     "execution_count": 7,
     "metadata": {},
     "output_type": "execute_result"
    }
   ],
   "source": [
    "x__.shape"
   ]
  },
  {
   "cell_type": "markdown",
   "metadata": {},
   "source": [
    "Deciding which parameter to delete. "
   ]
  },
  {
   "cell_type": "code",
   "execution_count": 8,
   "metadata": {},
   "outputs": [
    {
     "data": {
      "text/plain": [
       "'\\nWe should run this step for every single program run.\\n'"
      ]
     },
     "execution_count": 8,
     "metadata": {},
     "output_type": "execute_result"
    }
   ],
   "source": [
    "# deleted \n",
    "'''\n",
    "We should run this step for every single program run.\n",
    "'''"
   ]
  },
  {
   "cell_type": "code",
   "execution_count": 9,
   "metadata": {},
   "outputs": [],
   "source": [
    "x_del = np.delete(x__, [3, 8, 17], axis = 1)\n"
   ]
  },
  {
   "cell_type": "code",
   "execution_count": 10,
   "metadata": {},
   "outputs": [
    {
     "data": {
      "text/plain": [
       "(43280000, 18)"
      ]
     },
     "execution_count": 10,
     "metadata": {},
     "output_type": "execute_result"
    }
   ],
   "source": [
    "x_del.shape"
   ]
  },
  {
   "cell_type": "code",
   "execution_count": 11,
   "metadata": {},
   "outputs": [
    {
     "data": {
      "text/plain": [
       "0"
      ]
     },
     "execution_count": 11,
     "metadata": {},
     "output_type": "execute_result"
    }
   ],
   "source": [
    "x_hat = x_del[:20000000,].T\n",
    "np.isnan(x_hat).sum()"
   ]
  },
  {
   "cell_type": "code",
   "execution_count": 12,
   "metadata": {},
   "outputs": [
    {
     "data": {
      "text/plain": [
       "(18, 20000000)"
      ]
     },
     "execution_count": 12,
     "metadata": {},
     "output_type": "execute_result"
    }
   ],
   "source": [
    "x_hat.shape"
   ]
  },
  {
   "cell_type": "code",
   "execution_count": 13,
   "metadata": {},
   "outputs": [
    {
     "data": {
      "text/plain": [
       "<matplotlib.axes._subplots.AxesSubplot at 0x7f4451a53860>"
      ]
     },
     "execution_count": 13,
     "metadata": {},
     "output_type": "execute_result"
    },
    {
     "data": {
      "image/png": "[encoded data removed]",
      "text/plain": [
       "<Figure size 432x288 with 2 Axes>"
      ]
     },
     "metadata": {},
     "output_type": "display_data"
    }
   ],
   "source": [
    "pearson_ = np.corrcoef(x_hat)\n",
    "\n",
    "for i in range(len(pearson_)):\n",
    "    for j in range(len(pearson_)):\n",
    "        if i != j:\n",
    "            if abs(pearson_[i,j]) > 0.6:\n",
    "                print(\"the %d, %d parameters are correlated, it's value should be: %f\" % (i, j, pearson_[i, j]))\n",
    "                \n",
    "sns.heatmap(pearson_)"
   ]
  },
  {
   "cell_type": "markdown",
   "metadata": {},
   "source": [
    "#### 3. Splitting Data"
   ]
  },
  {
   "cell_type": "code",
   "execution_count": 16,
   "metadata": {},
   "outputs": [],
   "source": [
    "def train_test_split(x, y):\n",
    "    '''\n",
    "    此时的情况是：T = 30，\n",
    "                  40000 * 1082（21个features）的input x，被拉长为4.328e7 * 21 的数列。\n",
    "                  39970 * 1082（1个output return）的output，被拉长为4.3248e7 * 21的数列。\n",
    "    举简单的例子：用T = 3的情况，此时前面三个没有数字\n",
    " X：| | | | | | | |\n",
    "    | | | | | | | |\n",
    "    | | | | | | | |\n",
    "    | | | | | | | |\n",
    "    | | | | | | | |\n",
    "    | | | | | | | |\n",
    " P：| | | | | | | |\n",
    " Y:       | | | | | | | |\n",
    "    但是后面三个predicted y其实也没有（因为没有相对应的price做预测）\n",
    "    既然是相对收益率，那我认为应当截去X的头部30（行）（因其无法产生任何有效的收益率数值）\n",
    "    train_test分裂暂时使用35000-30:5000\n",
    "        x_numpy = x_numpy[,:0:1:,]\n",
    "    '''\n",
    "    # define hyper-parameter:\n",
    "    \n",
    "    \n",
    "    x = np.asarray(x)\n",
    "    # x = np.delete(x, [3, 8, 16], axis = 0)\n",
    "    y = np.asarray(y)\n",
    "    y = y.reshape(-1,1)\n",
    "    '''  \n",
    "    # Cut first 30 rows of x\n",
    "    # 30 * 1082 = 32460\n",
    "    x = x[32460:,:]\n",
    "\n",
    "\n",
    "    # transfer nan to 0\n",
    "    x = np.nan_to_num(x)\n",
    "    y = np.nan_to_num(y)\n",
    "    '''\n",
    "    print(np.shape(x))\n",
    "    print(y.shape)\n",
    "    \n",
    "    # cutting first \n",
    "    train_X = x[:37837540,:]    # 3-D to 2-D\n",
    "    train_y = y[:37837540,:]\n",
    "    test_X = x[37837540:43247540,:]\n",
    "    test_y = y[37837540:,:]\n",
    "    '''\n",
    "    train_X= np.nan_to_num(train_X)\n",
    "    train_y= np.nan_to_num(train_y)\n",
    "    test_X= np.nan_to_num(test_X)\n",
    "    test_y= np.nan_to_num(test_y)\n",
    "    '''\n",
    "    print(\"The shape of training set's X is,\",train_X.shape)\n",
    "    print(\"The shape of training set's y is,\",train_y.shape)\n",
    "    print(\"The shape of testing set's X is,\",test_X.shape)\n",
    "    print(\"The shape of testing set's y is,\",test_y.shape)\n",
    "\n",
    "    \n",
    "    return train_X, train_y, test_X, test_y"
   ]
  },
  {
   "cell_type": "code",
   "execution_count": 15,
   "metadata": {},
   "outputs": [
    {
     "name": "stdout",
     "output_type": "stream",
     "text": [
      "(43280000, 18)\n",
      "(43247540, 1)\n",
      "The shape of training set's X is, (37837540, 18)\n",
      "The shape of training set's y is, (37837540, 1)\n",
      "The shape of testing set's X is, (5410000, 18)\n",
      "The shape of testing set's y is, (5410000, 1)\n"
     ]
    }
   ],
   "source": [
    "train_X, train_y, test_X, test_y = train_test_split(x_del, y_)"
   ]
  },
  {
   "cell_type": "code",
   "execution_count": null,
   "metadata": {},
   "outputs": [],
   "source": [
    "'''\n",
    "Save training and testing dataset seperately to reduce model_fitting time.\n",
    "'''\n",
    "np.savetxt('/opt/hhyang/train_X',train_X, delimiter=\",\")\n",
    "np.savetxt('/opt/hhyang/train_y',train_y, delimiter=\",\")\n",
    "np.savetxt('/opt/hhyang/test_X',test_X, delimiter=\",\")\n",
    "np.savetxt('/opt/hhyang/test_y',test_y, delimiter=\",\")\n"
   ]
  },
  {
   "cell_type": "markdown",
   "metadata": {},
   "source": [
    "#### 4. Model_fittig\n",
    "\n",
    "\n",
    "这里我们首先先用sklearn进行一系列的最简单的模型判断，以确保我们的数据和模型是可以使用的。在这个条件下，我们暂时用RMSE作为评判标准，因为数据大小变化不明显，用MSE作为评判标准会出现数值过小而无法评价的问题。"
   ]
  },
  {
   "cell_type": "markdown",
   "metadata": {},
   "source": [
    "使用的模型为：\n",
    "1. Linear\n",
    "2. Ridge\n",
    "3. <font color = #ff0000> KNN </font>\n",
    "4. Lasso\n",
    "5. Bayesian\n",
    "6. <font color = #ff0000> MLP </font>\n",
    "7. Decision Tree\n",
    "8. Random Forest\n",
    "9. <font color = #ff0000> SGD </font>\n",
    "10. Gradient Boosting Decision Tree\n",
    "11. AdaBoost\n",
    "12. SVM regression"
   ]
  },
  {
   "cell_type": "code",
   "execution_count": 15,
   "metadata": {},
   "outputs": [],
   "source": [
    "# Preparing for several judgement parameter\n",
    "\n",
    "\n",
    "\n",
    "# Accuracy\n",
    "from sklearn.metrics import accuracy_score as acc_s\n",
    "from sklearn.metrics import mean_squared_error as mse\n",
    "from scipy.stats import pearsonr\n",
    "\n",
    "'''\n",
    "Since this is a regression problem instead of classification, \n",
    "we shouldn't use accuracy_score(compared one element from each other in this case .)\n",
    "Use MSE and RMSE criteria instead.\n",
    "\n",
    "'''\n",
    "\n",
    "def rmse(y_test, y_pred):\n",
    "    return np.sqrt(mse(y_test, y_pred))\n",
    "\n",
    "def IC(x1, x2):\n",
    "    pearson = []\n",
    "    x1 = np.squeeze(x1)\n",
    "    x2 = np.squeeze(x2)\n",
    "    for i in range(int(np.shape(x1)[0]/1082)):\n",
    "        x1_ = x1[i*1082:i*1082+1082,]\n",
    "        x2_ = x2[i*1082:i*1082+1082,]\n",
    "        pearson_ = pearsonr(x1_, x2_)[0]\n",
    "        pearson.append(pearson_)\n",
    "    pearson = np.asarray(pearson)\n",
    "    pearson = np.squeeze(pearson)\n",
    "    '''\n",
    "    print(np.isnan(pearson).sum())\n",
    "    print(pearson.shape)\n",
    "    print(pearson.mean())\n",
    "    print(pearson.std())\n",
    "    '''\n",
    "    temp = pearson.mean()/pearson.std()\n",
    "    return temp\n",
    "\n",
    "def nan_transfor(x):\n",
    "    where_are_nan = np.isnan(x)\n",
    "    where_are_inf = np.isinf(x)\n",
    "    x[where_are_nan] = 0\n",
    "    x[where_are_nan] = 0\n",
    "    return x\n",
    "\n",
    "def predictor(func):\n",
    "    y_hat = func.predict(pred_x)\n",
    "    y_hat = y_hat.reshape(40000,-1)\n",
    "    return y_hat"
   ]
  },
  {
   "cell_type": "code",
   "execution_count": 16,
   "metadata": {},
   "outputs": [],
   "source": [
    "'''\n",
    "Clear content of all memories\n",
    "'''\n",
    "Method = []\n",
    "MSE = []\n",
    "RMSE = []\n",
    "Time = []\n",
    "y_hat = []\n",
    "ic = []"
   ]
  },
  {
   "cell_type": "markdown",
   "metadata": {},
   "source": [
    "##### a. Linear"
   ]
  },
  {
   "cell_type": "code",
   "execution_count": 17,
   "metadata": {},
   "outputs": [
    {
     "name": "stdout",
     "output_type": "stream",
     "text": [
      "total time used for model fitting is: 487.62732434272766\n",
      "The mse of linear regression is: 2.6396798090616922e-05\n",
      "The rmse of linear regression is: 0.0051377814366336105\n",
      "The IC criteria is: 22.095781132949966\n"
     ]
    }
   ],
   "source": [
    "# Here we will import several functions in sklearn for model simulation.\n",
    "from sklearn.linear_model import LinearRegression\n",
    "linear = LinearRegression()\n",
    "t0 = time.time()\n",
    "linear.fit(train_X, train_y)\n",
    "t1 = time.time()\n",
    "print(\"total time used for model fitting is:\", t1-t0)\n",
    "pred_y = linear.predict(test_X)\n",
    "accuracy1 = mse(pred_y, test_y)\n",
    "accuracy2 = rmse(pred_y, test_y)\n",
    "accuracy3 = IC(pred_y, test_y)\n",
    "print(\"The mse of linear regression is:\", accuracy1)\n",
    "print(\"The rmse of linear regression is:\", accuracy2)\n",
    "print(\"The IC criteria is:\", accuracy3)\n",
    "\n",
    "Method.append('Linear')\n",
    "MSE.append(accuracy1)\n",
    "RMSE.append(accuracy2)\n",
    "ic.append(accuracy3)\n",
    "Time.append(t1-t0)\n",
    "y_hat.append(pred_y)\n"
   ]
  },
  {
   "cell_type": "markdown",
   "metadata": {},
   "source": [
    "##### b. Ridge"
   ]
  },
  {
   "cell_type": "code",
   "execution_count": 18,
   "metadata": {},
   "outputs": [
    {
     "name": "stdout",
     "output_type": "stream",
     "text": [
      "total time used for model fitting is: 8.61470651626587\n",
      "The mse of linear regression is: 2.6396798079787724e-05\n",
      "The rmse of linear regression is: 0.005137781435579731\n",
      "The IC criteria is: 22.09578022453156\n"
     ]
    }
   ],
   "source": [
    "# Here we will import several functions in sklearn for model simulation.\n",
    "from sklearn.linear_model import Ridge\n",
    "ridge = Ridge(alpha = 0.5)\n",
    "t0 = time.time()\n",
    "ridge.fit(train_X, train_y)\n",
    "t1 = time.time()\n",
    "print(\"total time used for model fitting is:\", t1-t0)\n",
    "pred_y = ridge.predict(test_X)\n",
    "accuracy1 = mse(pred_y, test_y)\n",
    "accuracy2 = rmse(pred_y, test_y)\n",
    "accuracy3 = IC(pred_y, test_y)\n",
    "\n",
    "print(\"The mse of linear regression is:\", accuracy1)\n",
    "print(\"The rmse of linear regression is:\", accuracy2)\n",
    "print(\"The IC criteria is:\", accuracy3)\n",
    "\n",
    "Method.append('Ridge')\n",
    "MSE.append(accuracy1)\n",
    "RMSE.append(accuracy2)\n",
    "ic.append(accuracy3)\n",
    "Time.append(t1-t0)\n",
    "y_hat.append(pred_y)"
   ]
  },
  {
   "cell_type": "markdown",
   "metadata": {},
   "source": [
    "##### c. K-Nearest Neighbor"
   ]
  },
  {
   "cell_type": "code",
   "execution_count": 19,
   "metadata": {},
   "outputs": [
    {
     "data": {
      "text/plain": [
       "(37837540,)"
      ]
     },
     "execution_count": 19,
     "metadata": {},
     "output_type": "execute_result"
    }
   ],
   "source": [
    "train_y_ =  np.squeeze(train_y)\n",
    "test_y_ =  np.squeeze(test_y)\n",
    "train_y_.shape"
   ]
  },
  {
   "cell_type": "code",
   "execution_count": null,
   "metadata": {},
   "outputs": [
    {
     "name": "stdout",
     "output_type": "stream",
     "text": [
      "total time used for model fitting is: 1624.9246447086334\n"
     ]
    }
   ],
   "source": [
    "# Here we will import several functions in sklearn for model simulation.\n",
    "from sklearn.neighbors import KNeighborsRegressor\n",
    "KNN = KNeighborsRegressor(n_neighbors = 5,\n",
    "                          leaf_size = 50, \n",
    "                          # p = 2 for euclidean distance,\n",
    "                         n_jobs = 10)\n",
    "t0 = time.time()\n",
    "KNN.fit(train_X, train_y)\n",
    "t1 = time.time()\n",
    "print(\"total time used for model fitting is:\", t1-t0)\n",
    "'''\n",
    "KNN prediction time is extremely slow!\n",
    "'''\n",
    "pred_y = KNN.predict(test_X)\n",
    "accuracy1 = mse(pred_y, test_y_)\n",
    "accuracy2 = rmse(pred_y, test_y_)\n",
    "print(\"The mse of linear regression is:\", accuracy1)\n",
    "print(\"The rmse of linear regression is:\", accuracy2)\n",
    "\n",
    "Method.append('K Nearest Neighbor')\n",
    "MSE.append(accuracy1)\n",
    "RMSE.append(accuracy2)\n",
    "Time.append(t1-t0)\n",
    "y_hat.append(pred_y)\n",
    "\n",
    "accuracy3 = IC(pred_y, test_y)\n",
    "print(\"The IC criteria is:\", accuracy3)\n",
    "ic.append(accuracy3)"
   ]
  },
  {
   "cell_type": "markdown",
   "metadata": {},
   "source": [
    "##### d. Lasso"
   ]
  },
  {
   "cell_type": "code",
   "execution_count": 20,
   "metadata": {},
   "outputs": [
    {
     "name": "stdout",
     "output_type": "stream",
     "text": [
      "total time used for model fitting is: 15.690503358840942\n",
      "The mse of linear regression is: 4.475829667531558e-05\n",
      "The rmse of linear regression is: 0.006690164174018122\n",
      "The IC criteria is: 0.02075470667530946\n"
     ]
    }
   ],
   "source": [
    "# Here we will import several functions in sklearn for model simulation.\n",
    "from sklearn.linear_model import Lasso\n",
    "lasso = Lasso(alpha = 0.1)\n",
    "t0 = time.time()\n",
    "lasso.fit(train_X, train_y)\n",
    "t1 = time.time()\n",
    "print(\"total time used for model fitting is:\", t1-t0)\n",
    "pred_y_ = lasso.predict(test_X)\n",
    "accuracy1 = mse(pred_y_, test_y)\n",
    "accuracy2 = rmse(pred_y_, test_y)\n",
    "print(\"The mse of linear regression is:\", accuracy1)\n",
    "print(\"The rmse of linear regression is:\", accuracy2)\n",
    "\n",
    "Method.append('Lasso')\n",
    "MSE.append(accuracy1)\n",
    "RMSE.append(accuracy2)\n",
    "Time.append(t1-t0)\n",
    "y_hat.append(pred_y_)\n",
    "\n",
    "accuracy3 = IC(pred_y_, test_y)\n",
    "print(\"The IC criteria is:\", accuracy3)\n",
    "ic.append(accuracy3)"
   ]
  },
  {
   "cell_type": "markdown",
   "metadata": {},
   "source": [
    "##### e. Bayesian"
   ]
  },
  {
   "cell_type": "code",
   "execution_count": 21,
   "metadata": {},
   "outputs": [
    {
     "name": "stdout",
     "output_type": "stream",
     "text": [
      "total time used for model fitting is: 155.34583854675293\n",
      "The mse of linear regression is: 2.6396797936657645e-05\n",
      "The rmse of linear regression is: 0.005137781421650559\n",
      "The IC criteria is: 22.095768216679982\n"
     ]
    }
   ],
   "source": [
    "# Here we will import several functions in sklearn for model simulation.\n",
    "from sklearn.linear_model import BayesianRidge\n",
    "bridge = BayesianRidge()\n",
    "t0 = time.time()\n",
    "bridge.fit(train_X, train_y_)\n",
    "t1 = time.time()\n",
    "print(\"total time used for model fitting is:\", t1-t0)\n",
    "pred_y = bridge.predict(test_X)\n",
    "accuracy1 = mse(pred_y, test_y_)\n",
    "accuracy2 = rmse(pred_y, test_y_)\n",
    "print(\"The mse of linear regression is:\", accuracy1)\n",
    "print(\"The rmse of linear regression is:\", accuracy2)\n",
    "\n",
    "Method.append('Bayesian')\n",
    "MSE.append(accuracy1)\n",
    "RMSE.append(accuracy2)\n",
    "Time.append(t1-t0)\n",
    "y_hat.append(pred_y)\n",
    "\n",
    "accuracy3 = IC(pred_y, test_y)\n",
    "print(\"The IC criteria is:\", accuracy3)\n",
    "ic.append(accuracy3)"
   ]
  },
  {
   "cell_type": "markdown",
   "metadata": {},
   "source": [
    "##### f. Multilayer Perceptron "
   ]
  },
  {
   "cell_type": "code",
   "execution_count": null,
   "metadata": {},
   "outputs": [],
   "source": [
    "from sklearn.neural_network import MLPregressor\n",
    "MLP = MLPregressor(activation  = 'relu',\n",
    "                   solver = 'adam',\n",
    "                   alpha = 1e-5,\n",
    "                   batch_size = 'auto', # = min(200, n_samples)\n",
    "                   learning_rate = 'adaptive'\n",
    "                   )\n",
    "\n",
    "t0 = time.time()\n",
    "MLP.fit(train_X, train_y_)\n",
    "t1 = time.time()\n",
    "print(\"total time used for model fitting is:\", t1-t0)\n",
    "pred_y = MLP.predict(test_X)\n",
    "accuracy1 = mse(pred_y, test_y_)\n",
    "accuracy2 = rmse(pred_y, test_y_)\n",
    "print(\"The mse of SVM regression is:\", accuracy1)\n",
    "print(\"The rmse of SVM regression is:\", accuracy2)\n",
    "\n",
    "\n",
    "\n",
    "Method.append('Multilayer Perceptron')\n",
    "MSE.append(accuracy1)\n",
    "RMSE.append(accuracy2)\n",
    "Time.append(t1-t0)\n",
    "y_hat.append(pred_y)\n",
    "\n",
    "accuracy3 = IC(pred_y, test_y)\n",
    "print(\"The IC criteria is:\", accuracy3)\n",
    "ic.append(accuracy3)"
   ]
  },
  {
   "cell_type": "markdown",
   "metadata": {},
   "source": [
    "##### g. Decision Tree\n",
    "\n",
    "调参方法主要看官方文档"
   ]
  },
  {
   "cell_type": "code",
   "execution_count": 22,
   "metadata": {},
   "outputs": [
    {
     "name": "stdout",
     "output_type": "stream",
     "text": [
      "total time used for model fitting is: 66.44618821144104\n",
      "The mse of Decision Tree regression is: 2.6484420593736758e-05\n",
      "The rmse of Decision Tree regression is: 0.005146301642319148\n",
      "The IC criteria is: 12.387085947544675\n"
     ]
    }
   ],
   "source": [
    "from sklearn.tree import DecisionTreeRegressor\n",
    "DTregression = DecisionTreeRegressor(splitter = 'random',\n",
    "                                    max_features = 'log2',\n",
    "                                    max_depth = 10,\n",
    "                                    min_samples_split = 10,\n",
    "                                    min_samples_leaf = 10,\n",
    "                                    )\n",
    "\n",
    "t0 = time.time()\n",
    "DTregression.fit(train_X, train_y_)\n",
    "t1 = time.time()\n",
    "print(\"total time used for model fitting is:\", t1-t0)\n",
    "pred_y = DTregression.predict(test_X)\n",
    "accuracy1 = mse(pred_y, test_y_)\n",
    "accuracy2 = rmse(pred_y, test_y_)\n",
    "print(\"The mse of Decision Tree regression is:\", accuracy1)\n",
    "print(\"The rmse of Decision Tree regression is:\", accuracy2)\n",
    "\n",
    "Method.append('Decision Tree')\n",
    "MSE.append(accuracy1)\n",
    "RMSE.append(accuracy2)\n",
    "Time.append(t1-t0)\n",
    "y_hat.append(pred_y)\n",
    "\n",
    "accuracy3 = IC(pred_y, test_y)\n",
    "print(\"The IC criteria is:\", accuracy3)\n",
    "ic.append(accuracy3)"
   ]
  },
  {
   "cell_type": "markdown",
   "metadata": {},
   "source": [
    "##### h. RF"
   ]
  },
  {
   "cell_type": "code",
   "execution_count": 23,
   "metadata": {},
   "outputs": [
    {
     "name": "stdout",
     "output_type": "stream",
     "text": [
      "total time used for model fitting is: 296.42095255851746\n",
      "The mse of Random Forest regression is: 1.5027250437559773e-05\n",
      "The rmse of Random Forest regression is: 0.0038764997662272304\n",
      "The IC criteria is: 25.97925870241772\n"
     ]
    }
   ],
   "source": [
    "from sklearn.ensemble import RandomForestRegressor\n",
    "RFregression = RandomForestRegressor(max_features = 'log2',\n",
    "                                     max_depth = 10,\n",
    "                                     min_samples_split = 10,\n",
    "                                     min_samples_leaf = 10,\n",
    "                                     n_jobs = 10\n",
    "                                    )\n",
    "\n",
    "t0 = time.time()\n",
    "RFregression.fit(train_X, train_y_)\n",
    "t1 = time.time()\n",
    "print(\"total time used for model fitting is:\", t1-t0)\n",
    "pred_y = RFregression.predict(test_X)\n",
    "accuracy1 = mse(pred_y, test_y_)\n",
    "accuracy2 = rmse(pred_y, test_y_)\n",
    "print(\"The mse of Random Forest regression is:\", accuracy1)\n",
    "print(\"The rmse of Random Forest regression is:\", accuracy2)\n",
    "\n",
    "Method.append('Random Forest')\n",
    "MSE.append(accuracy1)\n",
    "RMSE.append(accuracy2)\n",
    "Time.append(t1-t0)\n",
    "y_hat.append(pred_y)\n",
    "\n",
    "accuracy3 = IC(pred_y, test_y)\n",
    "print(\"The IC criteria is:\", accuracy3)\n",
    "ic.append(accuracy3)"
   ]
  },
  {
   "cell_type": "markdown",
   "metadata": {},
   "source": [
    "##### i.SGD"
   ]
  },
  {
   "cell_type": "code",
   "execution_count": null,
   "metadata": {},
   "outputs": [],
   "source": [
    "# Stochastic Gradient Descent\n",
    "from sklearn.linear_model import SGDRegressor\n",
    "SGD = SGDRegressor(# loss = 'squared_loss'\n",
    "                    penalty = 'l2',\n",
    "                    alpha = 1e-5,\n",
    "                    learing_rage = 'optimal'\n",
    "                   )\n",
    "\n",
    "t0 = time.time()\n",
    "SGD.fit(train_X, train_y_)\n",
    "t1 = time.time()\n",
    "print(\"total time used for model fitting is:\", t1-t0)\n",
    "pred_y = SGD.predict(test_X)\n",
    "accuracy1 = mse(pred_y, test_y_)\n",
    "accuracy2 = rmse(pred_y, test_y_)\n",
    "print(\"The mse of Random Forest regression is:\", accuracy1)\n",
    "print(\"The rmse of Random Forest regression is:\", accuracy2)\n",
    "\n",
    "Method.append('Stochastic Gradient Descent')\n",
    "MSE.append(accuracy1)\n",
    "RMSE.append(accuracy2)\n",
    "Time.append(t1-t0)\n",
    "y_hat.append(pred_y)\n",
    "\n",
    "accuracy3 = IC(pred_y, test_y)\n",
    "print(\"The IC criteria is:\", accuracy3)\n",
    "ic.append(accuracy3)"
   ]
  },
  {
   "cell_type": "markdown",
   "metadata": {},
   "source": [
    "##### j.GBDT"
   ]
  },
  {
   "cell_type": "code",
   "execution_count": 25,
   "metadata": {},
   "outputs": [
    {
     "name": "stdout",
     "output_type": "stream",
     "text": [
      "total time used for model fitting is: 441.98339080810547\n",
      "The mse of Random Forest regression is: 2.912803777722995e-05\n",
      "The rmse of Random Forest regression is: 0.0053970397235178795\n",
      "The IC criteria is: 15.576745833586426\n"
     ]
    }
   ],
   "source": [
    "from sklearn.ensemble import GradientBoostingRegressor\n",
    "GBDT = GradientBoostingRegressor(n_estimators = 10,\n",
    "                                subsample = 0.5,\n",
    "                                min_samples_split = 10,\n",
    "                                min_samples_leaf = 10,\n",
    "                                max_features = 'log2',\n",
    "                                alpha = 0.9)\n",
    "\n",
    "t0 = time.time()\n",
    "GBDT.fit(train_X, train_y_)\n",
    "t1 = time.time()\n",
    "print(\"total time used for model fitting is:\", t1-t0)\n",
    "pred_y = GBDT.predict(test_X)\n",
    "accuracy1 = mse(pred_y, test_y_)\n",
    "accuracy2 = rmse(pred_y, test_y_)\n",
    "print(\"The mse of Random Forest regression is:\", accuracy1)\n",
    "print(\"The rmse of Random Forest regression is:\", accuracy2)\n",
    "\n",
    "Method.append('GBDT')\n",
    "MSE.append(accuracy1)\n",
    "RMSE.append(accuracy2)\n",
    "Time.append(t1-t0)\n",
    "y_hat.append(pred_y)\n",
    "\n",
    "accuracy3 = IC(pred_y, test_y)\n",
    "print(\"The IC criteria is:\", accuracy3)\n",
    "ic.append(accuracy3)"
   ]
  },
  {
   "cell_type": "markdown",
   "metadata": {},
   "source": [
    "##### k.AdaBoost"
   ]
  },
  {
   "cell_type": "code",
   "execution_count": 26,
   "metadata": {},
   "outputs": [
    {
     "name": "stdout",
     "output_type": "stream",
     "text": [
      "total time used for model fitting is: 3361.827823638916\n",
      "The mse of Random Forest regression is: 3.3286529551392556e-05\n",
      "The rmse of Random Forest regression is: 0.005769447941648538\n",
      "The IC criteria is: 8.590558497420094\n"
     ]
    }
   ],
   "source": [
    "from sklearn.ensemble import AdaBoostRegressor\n",
    "ada = AdaBoostRegressor(n_estimators = 10)\n",
    "\n",
    "t0 = time.time()\n",
    "ada.fit(train_X, train_y_)\n",
    "t1 = time.time()\n",
    "print(\"total time used for model fitting is:\", t1-t0)\n",
    "pred_y = ada.predict(test_X)\n",
    "accuracy1 = mse(pred_y, test_y_)\n",
    "accuracy2 = rmse(pred_y, test_y_)\n",
    "print(\"The mse of Random Forest regression is:\", accuracy1)\n",
    "print(\"The rmse of Random Forest regression is:\", accuracy2)\n",
    "\n",
    "Method.append('AdaBoost')\n",
    "MSE.append(accuracy1)\n",
    "RMSE.append(accuracy2)\n",
    "Time.append(t1-t0)\n",
    "y_hat.append(pred_y)\n",
    "\n",
    "accuracy3 = IC(pred_y, test_y)\n",
    "print(\"The IC criteria is:\", accuracy3)\n",
    "ic.append(accuracy3)"
   ]
  },
  {
   "cell_type": "markdown",
   "metadata": {},
   "source": [
    "##### i.Support Vector Machine"
   ]
  },
  {
   "cell_type": "code",
   "execution_count": 27,
   "metadata": {},
   "outputs": [
    {
     "data": {
      "text/plain": [
       "(37837540,)"
      ]
     },
     "execution_count": 27,
     "metadata": {},
     "output_type": "execute_result"
    }
   ],
   "source": [
    "train_y_ =  np.squeeze(train_y)\n",
    "test_y_ =  np.squeeze(test_y)\n",
    "train_y_.shape"
   ]
  },
  {
   "cell_type": "code",
   "execution_count": null,
   "metadata": {},
   "outputs": [],
   "source": [
    "from sklearn.svm import SVR\n",
    "svmregression = SVR(C=1.0, epsilon=0.2)\n",
    "\n",
    "t0 = time.time()\n",
    "svmregression.fit(train_X, train_y_)\n",
    "t1 = time.time()\n",
    "print(\"total time used for model fitting is:\", t1-t0)\n",
    "pred_y = svmregression.predict(test_X)\n",
    "accuracy1 = mse(pred_y, test_y_)\n",
    "accuracy2 = rmse(pred_y, test_y_)\n",
    "print(\"The mse of SVM regression is:\", accuracy1)\n",
    "print(\"The rmse of SVM regression is:\", accuracy2)\n",
    "\n",
    "\n",
    "\n",
    "Method.append('SVM')\n",
    "MSE.append(accuracy1)\n",
    "RMSE.append(accuracy2)\n",
    "Time.append(t1-t0)\n",
    "y_hat.append(pred_y)\n",
    "\n",
    "accuracy3 = IC(pred_y, test_y)\n",
    "print(\"The IC criteria is:\", accuracy3)\n",
    "ic.append(accuracy3)"
   ]
  },
  {
   "cell_type": "markdown",
   "metadata": {},
   "source": [
    "##### j. Polynominal"
   ]
  },
  {
   "cell_type": "code",
   "execution_count": null,
   "metadata": {},
   "outputs": [],
   "source": [
    "'''\n",
    "Polynominal 是一种延伸变量的预处理手段，不是回归时的模型。\n",
    "\n",
    "# Here we will import several functions in sklearn for model simulation.\n",
    "from sklearn.preprocessing import PolynomialFeatures\n",
    "poly = PolynomialFeatures(degree = 2)\n",
    "t0 = time.time()\n",
    "poly.fit(train_X, train_y)\n",
    "t1 = time.time()\n",
    "print(\"total time used for model fitting is:\", t1-t0)\n",
    "pred_y = poly.predict(test_X)\n",
    "accuracy1 = mse(pred_y, test_y)\n",
    "accuracy2 = rmse(pred_y, test_y)\n",
    "print(\"The mse of linear regression is:\", accuracy1)\n",
    "print(\"The rmse of linear regression is:\", accuracy2)\n",
    "\n",
    "Method.append('Polynomial')\n",
    "MSE.append(accuracy1)\n",
    "RMSE.append(accuracy2)\n",
    "Time.append(t1-t0)\n",
    "y_hat.append(pred_y)\n",
    "\n",
    "'''\n"
   ]
  },
  {
   "cell_type": "code",
   "execution_count": null,
   "metadata": {},
   "outputs": [],
   "source": []
  },
  {
   "cell_type": "markdown",
   "metadata": {},
   "source": [
    "##### 6. 导出数据, 数据分析"
   ]
  },
  {
   "cell_type": "code",
   "execution_count": 133,
   "metadata": {},
   "outputs": [],
   "source": [
    "Dict = {\n",
    "    'mse':np.asarray(MSE),\n",
    "    'rmse':np.asarray(RMSE),\n",
    "    'time':np.asarray(Time),\n",
    "    'IC':np.asarray(ic),\n",
    "    # 'y_hat':y_hat\n",
    "    # dataframe\n",
    "}\n",
    "result = pd.DataFrame(Dict, index = Method)\n"
   ]
  },
  {
   "cell_type": "code",
   "execution_count": 134,
   "metadata": {},
   "outputs": [
    {
     "data": {
      "text/html": [
       "<div>\n",
       "<style scoped>\n",
       "    .dataframe tbody tr th:only-of-type {\n",
       "        vertical-align: middle;\n",
       "    }\n",
       "\n",
       "    .dataframe tbody tr th {\n",
       "        vertical-align: top;\n",
       "    }\n",
       "\n",
       "    .dataframe thead th {\n",
       "        text-align: right;\n",
       "    }\n",
       "</style>\n",
       "<table border=\"1\" class=\"dataframe\">\n",
       "  <thead>\n",
       "    <tr style=\"text-align: right;\">\n",
       "      <th></th>\n",
       "      <th>mse</th>\n",
       "      <th>rmse</th>\n",
       "      <th>time</th>\n",
       "      <th>IC</th>\n",
       "    </tr>\n",
       "  </thead>\n",
       "  <tbody>\n",
       "    <tr>\n",
       "      <th>Linear</th>\n",
       "      <td>0.000044</td>\n",
       "      <td>0.006663</td>\n",
       "      <td>13.771729</td>\n",
       "      <td>1.653329</td>\n",
       "    </tr>\n",
       "    <tr>\n",
       "      <th>Ridge</th>\n",
       "      <td>0.000011</td>\n",
       "      <td>0.003363</td>\n",
       "      <td>5.480013</td>\n",
       "      <td>24.518930</td>\n",
       "    </tr>\n",
       "    <tr>\n",
       "      <th>Bayesian</th>\n",
       "      <td>0.000011</td>\n",
       "      <td>0.003363</td>\n",
       "      <td>67.393884</td>\n",
       "      <td>24.520110</td>\n",
       "    </tr>\n",
       "    <tr>\n",
       "      <th>Decision Tree</th>\n",
       "      <td>0.000024</td>\n",
       "      <td>0.004911</td>\n",
       "      <td>57.129780</td>\n",
       "      <td>16.379122</td>\n",
       "    </tr>\n",
       "    <tr>\n",
       "      <th>Random Forest</th>\n",
       "      <td>0.000011</td>\n",
       "      <td>0.003292</td>\n",
       "      <td>295.299065</td>\n",
       "      <td>42.480742</td>\n",
       "    </tr>\n",
       "    <tr>\n",
       "      <th>GBDT</th>\n",
       "      <td>0.000024</td>\n",
       "      <td>0.004860</td>\n",
       "      <td>735.942172</td>\n",
       "      <td>28.636867</td>\n",
       "    </tr>\n",
       "    <tr>\n",
       "      <th>Lasso</th>\n",
       "      <td>0.000044</td>\n",
       "      <td>0.006637</td>\n",
       "      <td>1234.765212</td>\n",
       "      <td>1.248026</td>\n",
       "    </tr>\n",
       "    <tr>\n",
       "      <th>AdaBoost</th>\n",
       "      <td>0.000043</td>\n",
       "      <td>0.006525</td>\n",
       "      <td>5100.945332</td>\n",
       "      <td>5.721919</td>\n",
       "    </tr>\n",
       "    <tr>\n",
       "      <th>SVM</th>\n",
       "      <td>0.000731</td>\n",
       "      <td>0.027031</td>\n",
       "      <td>2033.369296</td>\n",
       "      <td>0.150877</td>\n",
       "    </tr>\n",
       "  </tbody>\n",
       "</table>\n",
       "</div>"
      ],
      "text/plain": [
       "                    mse      rmse         time         IC\n",
       "Linear         0.000044  0.006663    13.771729   1.653329\n",
       "Ridge          0.000011  0.003363     5.480013  24.518930\n",
       "Bayesian       0.000011  0.003363    67.393884  24.520110\n",
       "Decision Tree  0.000024  0.004911    57.129780  16.379122\n",
       "Random Forest  0.000011  0.003292   295.299065  42.480742\n",
       "GBDT           0.000024  0.004860   735.942172  28.636867\n",
       "Lasso          0.000044  0.006637  1234.765212   1.248026\n",
       "AdaBoost       0.000043  0.006525  5100.945332   5.721919\n",
       "SVM            0.000731  0.027031  2033.369296   0.150877"
      ]
     },
     "execution_count": 134,
     "metadata": {},
     "output_type": "execute_result"
    }
   ],
   "source": [
    "result"
   ]
  },
  {
   "cell_type": "code",
   "execution_count": 72,
   "metadata": {},
   "outputs": [],
   "source": [
    "result.to_csv('/opt/hhyang/result.csv')"
   ]
  },
  {
   "cell_type": "code",
   "execution_count": 137,
   "metadata": {},
   "outputs": [
    {
     "data": {
      "text/plain": [
       "<Figure size 432x288 with 0 Axes>"
      ]
     },
     "metadata": {},
     "output_type": "display_data"
    },
    {
     "data": {
      "image/png": "[encoded data removed]",
      "text/plain": [
       "<Figure size 1080x648 with 1 Axes>"
      ]
     },
     "metadata": {},
     "output_type": "display_data"
    },
    {
     "data": {
      "image/png": "[encoded data removed]",
      "text/plain": [
       "<Figure size 1080x648 with 1 Axes>"
      ]
     },
     "metadata": {},
     "output_type": "display_data"
    },
    {
     "data": {
      "image/png": "[encoded data removed]",
      "text/plain": [
       "<Figure size 1080x648 with 1 Axes>"
      ]
     },
     "metadata": {},
     "output_type": "display_data"
    }
   ],
   "source": [
    "\n",
    "sns.despine()  \n",
    "sns.set_style(\"whitegrid\")  \n",
    "plt.figure(figsize=(15,9))\n",
    "plt.plot(result['IC'], label = 'ic')\n",
    "plt.title(\"IC criteria simulation result\")\n",
    "plt.legend()\n",
    "plt.show()\n",
    "\n",
    "plt.figure(figsize=(15,9))\n",
    "plt.plot(result['mse'], label = 'mse')\n",
    "plt.title(\"MSE criteria simulation result\")\n",
    "plt.legend()\n",
    "plt.show()\n",
    "\n",
    "plt.figure(figsize=(15,9))\n",
    "plt.plot(result['rmse'], label = 'rmse')\n",
    "plt.title(\"RMSE criteria simulation result\")\n",
    "plt.legend()\n",
    "plt.show()"
   ]
  },
  {
   "cell_type": "code",
   "execution_count": 59,
   "metadata": {},
   "outputs": [],
   "source": [
    "# reshaping input x\n",
    "pred_x = np.squeeze(x_).T\n",
    "pred_x = nan_transfer(pred_x)\n",
    "pred_x.shape\n",
    "\n",
    "# outputs\n",
    "y_hat_linear = predictor(linear)\n",
    "y_hat_ridge = predictor(ridge)\n",
    "y_hat_bridge = predictor(bridge)\n",
    "y_hat_DTregression = predictor(DTregression)\n",
    "y_hat_RFregression = predictor(RFregression)\n",
    "y_hat_GBDT = predictor(GBDT)\n",
    "y_hat_lasso = predictor(lasso)\n",
    "y_hat_ada = predictor(ada)"
   ]
  },
  {
   "cell_type": "code",
   "execution_count": 65,
   "metadata": {},
   "outputs": [],
   "source": [
    "np.savetxt('/opt/hhyang/linear.txt',y_hat_linear)\n",
    "np.savetxt('/opt/hhyang/ridge.txt',y_hat_ridge)\n",
    "np.savetxt('/opt/hhyang/bridge.txt',y_hat_bridge)\n",
    "np.savetxt('/opt/hhyang/DecisionTree.txt',y_hat_DTregression)\n",
    "np.savetxt('/opt/hhyang/RandomForest.txt',y_hat_RFregression)\n",
    "np.savetxt('/opt/hhyang/GBDT.txt',y_hat_GBDT)\n",
    "np.savetxt('/opt/hhyang/Lasso.txt',y_hat_lasso)\n",
    "np.savetxt('/opt/hhyang/ada.txt',y_hat_ada)"
   ]
  },
  {
   "cell_type": "code",
   "execution_count": 103,
   "metadata": {},
   "outputs": [],
   "source": [
    "# Stacking zeros for type\n",
    "zeros = np.zeros((40000, 747))\n",
    "y_hat_linear = np.c_[y_hat_linear, zeros]\n",
    "y_hat_ridge = np.c_[y_hat_ridge, zeros]\n",
    "y_hat_bridge = np.c_[y_hat_bridge, zeros]\n",
    "y_hat_DTregression = np.c_[y_hat_DTregression, zeros]\n",
    "y_hat_RFregression = np.c_[y_hat_RFregression, zeros]\n",
    "y_hat_GBDT = np.c_[y_hat_GBDT, zeros]\n",
    "y_hat_lasso = np.c_[y_hat_lasso, zeros]\n",
    "y_hat_ada = np.c_[y_hat_ada, zeros]"
   ]
  },
  {
   "cell_type": "code",
   "execution_count": 114,
   "metadata": {},
   "outputs": [],
   "source": [
    "# Stacking zeros for type\n",
    "zero = np.zeros((320, 1829))\n",
    "y_hat_linear = np.r_[y_hat_linear, zero]\n",
    "y_hat_ridge = np.r_[y_hat_ridge, zero]\n",
    "y_hat_bridge = np.r_[y_hat_bridge, zero]\n",
    "y_hat_DTregression = np.r_[y_hat_DTregression, zero]\n",
    "y_hat_RFregression = np.r_[y_hat_RFregression, zero]\n",
    "y_hat_GBDT = np.r_[y_hat_GBDT, zero]\n",
    "y_hat_lasso = np.r_[y_hat_lasso, zero]\n",
    "y_hat_ada = np.r_[y_hat_ada, zero]"
   ]
  },
  {
   "cell_type": "code",
   "execution_count": 117,
   "metadata": {},
   "outputs": [],
   "source": [
    "# Transfer float64 into float32\n",
    "y_hat_linear = y_hat_linear.astype('float32')\n",
    "y_hat_ridge = y_hat_ridge.astype('float32')\n",
    "y_hat_bridge = y_hat_bridge.astype('float32')\n",
    "y_hat_DTregression = y_hat_DTregression.astype('float32')\n",
    "y_hat_RFregression = y_hat_RFregression.astype('float32')\n",
    "y_hat_GBDT = y_hat_GBDT.astype('float32')\n",
    "y_hat_lasso = y_hat_lasso.astype('float32')\n",
    "y_hat_ada = y_hat_ada.astype('float32')"
   ]
  },
  {
   "cell_type": "code",
   "execution_count": 134,
   "metadata": {},
   "outputs": [
    {
     "name": "stdout",
     "output_type": "stream",
     "text": [
      "(43280000, 18)\n"
     ]
    }
   ],
   "source": [
    "pred_x = np.squeeze(x_).T\n",
    "pred_x = np.delete(pred_x, [3, 8, 16], axis = 1)\n",
    "pred_x = nan_transfer(pred_x)\n",
    "print(pred_x.shape)\n",
    "\n",
    "y_hat_linear = predictor(linear)\n",
    "y_hat_lasso = predictor(lasso)\n",
    "\n",
    "zeros = np.zeros((40000, 747))\n",
    "y_hat_linear = np.c_[y_hat_linear, zeros]\n",
    "y_hat_lasso = np.c_[y_hat_lasso, zeros]\n",
    "\n",
    "zero = np.zeros((320, 1829))\n",
    "y_hat_linear = np.r_[y_hat_linear, zero]\n",
    "y_hat_lasso = np.r_[y_hat_lasso, zero]\n",
    "\n",
    "y_hat_linear = y_hat_linear.astype('float32')\n",
    "y_hat_lasso = y_hat_lasso.astype('float32')\n",
    "\n",
    "y_hat_linear.tofile('/opt/hhyang/linear.bin')\n",
    "y_hat_lasso.tofile('/opt/hhyang/lasso.bin')\n"
   ]
  },
  {
   "cell_type": "code",
   "execution_count": 120,
   "metadata": {},
   "outputs": [
    {
     "data": {
      "text/plain": [
       "dtype('float32')"
      ]
     },
     "execution_count": 120,
     "metadata": {},
     "output_type": "execute_result"
    }
   ],
   "source": [
    "y_hat_linear.dtype"
   ]
  },
  {
   "cell_type": "code",
   "execution_count": 118,
   "metadata": {},
   "outputs": [],
   "source": [
    "# Output into requried type.\n",
    "# 288 k kb\n",
    "y_hat_linear.tofile('/opt/hhyang/linear.bin')\n",
    "y_hat_ridge.tofile('/opt/hhyang/ridge.bin')\n",
    "y_hat_bridge.tofile('/opt/hhyang/bridge.bin')\n",
    "y_hat_DTregression.tofile('/opt/hhyang/DTregression.bin')\n",
    "y_hat_RFregression.tofile('/opt/hhyang/RFregression.bin')\n",
    "y_hat_GBDT.tofile('/opt/hhyang/GBDT.bin')\n",
    "y_hat_lasso.tofile('/opt/hhyang/lasso.bin')\n",
    "y_hat_ada.tofile('/opt/hhyang/ada.bin')"
   ]
  },
  {
   "cell_type": "markdown",
   "metadata": {},
   "source": [
    "##### Logistics 不用了\n",
    "\n",
    "这里要用标准化的方法。\n",
    "x_bar = (x - MIN)/(MAX-MIN)\n",
    "\n",
    "回归问题不要用分类模型（虽然可以做）"
   ]
  },
  {
   "cell_type": "code",
   "execution_count": null,
   "metadata": {},
   "outputs": [],
   "source": [
    "'''\n",
    "Standardization process.\n",
    "'''\n",
    "y_max = np.nanmax(y_)\n",
    "y_min = np.nanmin(y_)\n",
    "def standardization(x):\n",
    "    return (x-y_min)/(y_max - y_min)\n",
    "train_y_logistic = standardization(train_y)\n",
    "test_y_logistic = standardization(test_y)"
   ]
  },
  {
   "cell_type": "code",
   "execution_count": 23,
   "metadata": {},
   "outputs": [
    {
     "name": "stderr",
     "output_type": "stream",
     "text": [
      "/root/anaconda3/lib/python3.6/site-packages/sklearn/utils/validation.py:578: DataConversionWarning: A column-vector y was passed when a 1d array was expected. Please change the shape of y to (n_samples, ), for example using ravel().\n",
      "  y = column_or_1d(y, warn=True)\n"
     ]
    },
    {
     "ename": "ValueError",
     "evalue": "Unknown label type: 'continuous'",
     "output_type": "error",
     "traceback": [
      "\u001b[0;31m---------------------------------------------------------------------------\u001b[0m",
      "\u001b[0;31mValueError\u001b[0m                                Traceback (most recent call last)",
      "\u001b[0;32m<ipython-input-23-70d06ac1d41a>\u001b[0m in \u001b[0;36m<module>\u001b[0;34m()\u001b[0m\n\u001b[1;32m      2\u001b[0m \u001b[0mlogistic\u001b[0m \u001b[0;34m=\u001b[0m \u001b[0mLogisticRegression\u001b[0m\u001b[0;34m(\u001b[0m\u001b[0;34m)\u001b[0m\u001b[0;34m\u001b[0m\u001b[0m\n\u001b[1;32m      3\u001b[0m \u001b[0mt0\u001b[0m \u001b[0;34m=\u001b[0m \u001b[0mtime\u001b[0m\u001b[0;34m.\u001b[0m\u001b[0mtime\u001b[0m\u001b[0;34m(\u001b[0m\u001b[0;34m)\u001b[0m\u001b[0;34m\u001b[0m\u001b[0m\n\u001b[0;32m----> 4\u001b[0;31m \u001b[0mlogistic\u001b[0m\u001b[0;34m.\u001b[0m\u001b[0mfit\u001b[0m\u001b[0;34m(\u001b[0m\u001b[0mtrain_X\u001b[0m\u001b[0;34m,\u001b[0m \u001b[0mtrain_y_logistic\u001b[0m\u001b[0;34m)\u001b[0m\u001b[0;34m\u001b[0m\u001b[0m\n\u001b[0m\u001b[1;32m      5\u001b[0m \u001b[0mt1\u001b[0m \u001b[0;34m=\u001b[0m \u001b[0mtime\u001b[0m\u001b[0;34m.\u001b[0m\u001b[0mtime\u001b[0m\u001b[0;34m(\u001b[0m\u001b[0;34m)\u001b[0m\u001b[0;34m\u001b[0m\u001b[0m\n\u001b[1;32m      6\u001b[0m \u001b[0mprint\u001b[0m\u001b[0;34m(\u001b[0m\u001b[0;34m\"total time used for model fitting is:\"\u001b[0m\u001b[0;34m,\u001b[0m \u001b[0mt1\u001b[0m\u001b[0;34m-\u001b[0m\u001b[0mt0\u001b[0m\u001b[0;34m)\u001b[0m\u001b[0;34m\u001b[0m\u001b[0m\n",
      "\u001b[0;32m~/anaconda3/lib/python3.6/site-packages/sklearn/linear_model/logistic.py\u001b[0m in \u001b[0;36mfit\u001b[0;34m(self, X, y, sample_weight)\u001b[0m\n\u001b[1;32m   1215\u001b[0m         X, y = check_X_y(X, y, accept_sparse='csr', dtype=_dtype,\n\u001b[1;32m   1216\u001b[0m                          order=\"C\")\n\u001b[0;32m-> 1217\u001b[0;31m         \u001b[0mcheck_classification_targets\u001b[0m\u001b[0;34m(\u001b[0m\u001b[0my\u001b[0m\u001b[0;34m)\u001b[0m\u001b[0;34m\u001b[0m\u001b[0m\n\u001b[0m\u001b[1;32m   1218\u001b[0m         \u001b[0mself\u001b[0m\u001b[0;34m.\u001b[0m\u001b[0mclasses_\u001b[0m \u001b[0;34m=\u001b[0m \u001b[0mnp\u001b[0m\u001b[0;34m.\u001b[0m\u001b[0munique\u001b[0m\u001b[0;34m(\u001b[0m\u001b[0my\u001b[0m\u001b[0;34m)\u001b[0m\u001b[0;34m\u001b[0m\u001b[0m\n\u001b[1;32m   1219\u001b[0m         \u001b[0mn_samples\u001b[0m\u001b[0;34m,\u001b[0m \u001b[0mn_features\u001b[0m \u001b[0;34m=\u001b[0m \u001b[0mX\u001b[0m\u001b[0;34m.\u001b[0m\u001b[0mshape\u001b[0m\u001b[0;34m\u001b[0m\u001b[0m\n",
      "\u001b[0;32m~/anaconda3/lib/python3.6/site-packages/sklearn/utils/multiclass.py\u001b[0m in \u001b[0;36mcheck_classification_targets\u001b[0;34m(y)\u001b[0m\n\u001b[1;32m    170\u001b[0m     if y_type not in ['binary', 'multiclass', 'multiclass-multioutput',\n\u001b[1;32m    171\u001b[0m                       'multilabel-indicator', 'multilabel-sequences']:\n\u001b[0;32m--> 172\u001b[0;31m         \u001b[0;32mraise\u001b[0m \u001b[0mValueError\u001b[0m\u001b[0;34m(\u001b[0m\u001b[0;34m\"Unknown label type: %r\"\u001b[0m \u001b[0;34m%\u001b[0m \u001b[0my_type\u001b[0m\u001b[0;34m)\u001b[0m\u001b[0;34m\u001b[0m\u001b[0m\n\u001b[0m\u001b[1;32m    173\u001b[0m \u001b[0;34m\u001b[0m\u001b[0m\n\u001b[1;32m    174\u001b[0m \u001b[0;34m\u001b[0m\u001b[0m\n",
      "\u001b[0;31mValueError\u001b[0m: Unknown label type: 'continuous'"
     ]
    }
   ],
   "source": [
    "from sklearn.linear_model import LogisticRegression\n",
    "logistic = LogisticRegression()\n",
    "t0 = time.time()\n",
    "logistic.fit(train_X, train_y_logistic)\n",
    "t1 = time.time()\n",
    "print(\"total time used for model fitting is:\", t1-t0)\n",
    "pred_y = logistic.predict(test_X)\n",
    "accuracy1 = mse(pred_y, test_y_logistic)\n",
    "accuracy2 = rmse(pred_y, test_y_logistic)\n",
    "print(\"The mse of logistics regression is:\", accuracy1)\n",
    "print(\"The rmse of logistics regression is:\", accuracy2)"
   ]
  },
  {
   "cell_type": "markdown",
   "metadata": {},
   "source": [
    "## 6. 后续工作\n",
    "\n",
    "后续工作会根据之前工作的进行，大致方向为：研究 in-sample/out of sample strategy 进行一些机器学习的研究：\n",
    "    1. 训练出模型/accuracy/bais/variance 尝试各种各样的建模方式 最顺手而且性能更好；\n",
    "    2. 做出模型后如何进行交易、什么条件下进行买卖、增强学习。\n"
   ]
  },
  {
   "cell_type": "markdown",
   "metadata": {},
   "source": [
    "1. 因模型运作时间过长，我们需要继续探索Bagging/SVM/Kernal Ridge Regression的运作情况。"
   ]
  },
  {
   "cell_type": "code",
   "execution_count": 126,
   "metadata": {},
   "outputs": [],
   "source": [
    "# Bagging Regression"
   ]
  },
  {
   "cell_type": "code",
   "execution_count": 127,
   "metadata": {},
   "outputs": [],
   "source": [
    "# SVM Regression"
   ]
  },
  {
   "cell_type": "code",
   "execution_count": 128,
   "metadata": {},
   "outputs": [],
   "source": [
    "# Kernal Ridge Regression"
   ]
  },
  {
   "cell_type": "markdown",
   "metadata": {},
   "source": [
    "2. 使用如下优化方法对模型进行优化："
   ]
  },
  {
   "cell_type": "code",
   "execution_count": 17,
   "metadata": {},
   "outputs": [],
   "source": [
    "# Normalized Gradient Descent"
   ]
  },
  {
   "cell_type": "code",
   "execution_count": 18,
   "metadata": {},
   "outputs": [],
   "source": [
    "# Stogastic Gradient Descent"
   ]
  },
  {
   "cell_type": "code",
   "execution_count": 19,
   "metadata": {},
   "outputs": [],
   "source": [
    "# Batch Gradient Descent"
   ]
  },
  {
   "cell_type": "code",
   "execution_count": 20,
   "metadata": {},
   "outputs": [],
   "source": [
    "# Monmentum Gradient Descent"
   ]
  },
  {
   "cell_type": "markdown",
   "metadata": {},
   "source": [
    "3. 使用如下深度学习模型拟合数据："
   ]
  },
  {
   "cell_type": "code",
   "execution_count": 121,
   "metadata": {},
   "outputs": [],
   "source": [
    "# MLP"
   ]
  },
  {
   "cell_type": "code",
   "execution_count": 21,
   "metadata": {},
   "outputs": [],
   "source": [
    "# Simple RNN"
   ]
  },
  {
   "cell_type": "code",
   "execution_count": 22,
   "metadata": {},
   "outputs": [],
   "source": [
    "# GRU-RNN"
   ]
  },
  {
   "cell_type": "code",
   "execution_count": 129,
   "metadata": {},
   "outputs": [],
   "source": [
    "# LSTM-RNN"
   ]
  },
  {
   "cell_type": "code",
   "execution_count": 130,
   "metadata": {},
   "outputs": [],
   "source": [
    "# GAN-RNN"
   ]
  },
  {
   "cell_type": "markdown",
   "metadata": {},
   "source": [
    "4. 使用如下降维方式增加效率"
   ]
  },
  {
   "cell_type": "code",
   "execution_count": 122,
   "metadata": {},
   "outputs": [],
   "source": [
    "# PCA"
   ]
  },
  {
   "cell_type": "code",
   "execution_count": 123,
   "metadata": {},
   "outputs": [],
   "source": [
    "# LDA"
   ]
  },
  {
   "cell_type": "code",
   "execution_count": 124,
   "metadata": {},
   "outputs": [],
   "source": [
    "# LLE "
   ]
  },
  {
   "cell_type": "code",
   "execution_count": 125,
   "metadata": {},
   "outputs": [],
   "source": [
    "# Laplacian Eigenmaps"
   ]
  }
 ],
 "metadata": {
  "anaconda-cloud": {},
  "kernelspec": {
   "display_name": "Python [default]",
   "language": "python",
   "name": "python3"
  },
  "language_info": {
   "codemirror_mode": {
    "name": "ipython",
    "version": 3
   },
   "file_extension": ".py",
   "mimetype": "text/x-python",
   "name": "python",
   "nbconvert_exporter": "python",
   "pygments_lexer": "ipython3",
   "version": "3.5.2"
  }
 },
 "nbformat": 4,
 "nbformat_minor": 2
}
